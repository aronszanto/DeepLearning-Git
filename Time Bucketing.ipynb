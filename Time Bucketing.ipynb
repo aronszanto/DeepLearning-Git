{
 "cells": [
  {
   "cell_type": "code",
   "execution_count": 49,
   "metadata": {
    "collapsed": true
   },
   "outputs": [],
   "source": [
    "%matplotlib inline\n",
    "\n",
    "from collections import Counter, defaultdict\n",
    "import json\n",
    "import numpy as np\n",
    "import pandas as pd\n",
    "import matplotlib.pyplot as plt\n",
    "import os\n",
    "from scipy.stats.stats import pearsonr\n",
    "import cPickle as pkl\n",
    "import datetime\n",
    "import bisect\n",
    "from pprint import pprint\n",
    "\n",
    "import seaborn as sns"
   ]
  },
  {
   "cell_type": "code",
   "execution_count": 92,
   "metadata": {
    "collapsed": true
   },
   "outputs": [],
   "source": [
    "rdata, udata, data, users, repos = pkl.load(open('data_structuring_150.pkl', 'rb'))"
   ]
  },
  {
   "cell_type": "code",
   "execution_count": 93,
   "metadata": {},
   "outputs": [],
   "source": [
    "all_times = sum([udata[u]['times'] for u in udata.keys()], [])\n",
    "min_time = min(all_times)\n",
    "max_time = max(all_times)"
   ]
  },
  {
   "cell_type": "code",
   "execution_count": 94,
   "metadata": {},
   "outputs": [],
   "source": [
    "def ts_to_buckets(ts_list, start, end, interval):\n",
    "    bucket_list = []\n",
    "    grid=[start+n*interval for n in range(1000)] # this works for like many many years...\n",
    "    for ts in ts_list:\n",
    "        idx=bisect.bisect(grid,ts)\n",
    "        bucket_list.append(idx)\n",
    "    max_bucket = bisect.bisect(grid, end)\n",
    "    return bucket_list, max_bucket"
   ]
  },
  {
   "cell_type": "code",
   "execution_count": 95,
   "metadata": {},
   "outputs": [],
   "source": [
    "interval = datetime.timedelta(days=3)\n",
    "for u in udata.keys():\n",
    "    udata[u]['time_buckets'] = ts_to_buckets(udata[u]['times'], min_time, max_time, interval)[0]\n",
    "for r in rdata.keys():\n",
    "    rdata[r]['time_buckets'] = ts_to_buckets(rdata[r]['times'], min_time, max_time, interval)[0]\n",
    "for u,r in data.keys():\n",
    "    data[(u,r)]['time_buckets'], max_bucket = ts_to_buckets(data[(u,r)]['times'], min_time, max_time, interval)"
   ]
  },
  {
   "cell_type": "code",
   "execution_count": 96,
   "metadata": {},
   "outputs": [
    {
     "name": "stdout",
     "output_type": "stream",
     "text": [
      "10\n"
     ]
    }
   ],
   "source": [
    "print max_bucket"
   ]
  },
  {
   "cell_type": "code",
   "execution_count": 97,
   "metadata": {
    "collapsed": true
   },
   "outputs": [],
   "source": [
    "pkl.dump((rdata, udata, data, users, repos), open('data_structuring_150.pkl', 'wb')) # DUMP\n",
    "# rdata, udata, data, users, repos = pkl.load(open('data_structuring.pkl', 'rb')) # LOAD"
   ]
  },
  {
   "cell_type": "code",
   "execution_count": null,
   "metadata": {
    "collapsed": true
   },
   "outputs": [],
   "source": []
  }
 ],
 "metadata": {
  "kernelspec": {
   "display_name": "Python 2",
   "language": "python",
   "name": "python2"
  },
  "language_info": {
   "codemirror_mode": {
    "name": "ipython",
    "version": 2
   },
   "file_extension": ".py",
   "mimetype": "text/x-python",
   "name": "python",
   "nbconvert_exporter": "python",
   "pygments_lexer": "ipython2",
   "version": "2.7.12"
  }
 },
 "nbformat": 4,
 "nbformat_minor": 2
}
