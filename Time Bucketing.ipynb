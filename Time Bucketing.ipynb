{
 "cells": [
  {
   "cell_type": "code",
   "execution_count": 49,
   "metadata": {
    "collapsed": true
   },
   "outputs": [],
   "source": [
    "%matplotlib inline\n",
    "\n",
    "from collections import Counter, defaultdict\n",
    "import json\n",
    "import numpy as np\n",
    "import pandas as pd\n",
    "import matplotlib.pyplot as plt\n",
    "import os\n",
    "from scipy.stats.stats import pearsonr\n",
    "import cPickle as pkl\n",
    "import datetime\n",
    "import bisect\n",
    "from pprint import pprint\n",
    "\n",
    "import seaborn as sns"
   ]
  },
  {
   "cell_type": "code",
   "execution_count": 39,
   "metadata": {
    "collapsed": true
   },
   "outputs": [],
   "source": [
    "rdata, udata, data, users, repos = pkl.load(open('data_structuring.pkl', 'rb'))"
   ]
  },
  {
   "cell_type": "code",
   "execution_count": 40,
   "metadata": {},
   "outputs": [],
   "source": [
    "all_times = sum([udata[u]['times'] for u in udata.keys()], [])\n",
    "min_time = min(all_times)"
   ]
  },
  {
   "cell_type": "code",
   "execution_count": 41,
   "metadata": {},
   "outputs": [],
   "source": [
    "def ts_to_buckets(ts_list, start, interval):\n",
    "    bucket_list = []\n",
    "    grid=[start+n*interval for n in range(1000)] # this works for like many many years...\n",
    "    for ts in ts_list:\n",
    "        idx=bisect.bisect(grid,ts)\n",
    "        bucket_list.append(idx)\n",
    "    return bucket_list"
   ]
  },
  {
   "cell_type": "code",
   "execution_count": 44,
   "metadata": {},
   "outputs": [
    {
     "name": "stdout",
     "output_type": "stream",
     "text": [
      "done with udata\n"
     ]
    }
   ],
   "source": [
    "interval = datetime.timedelta(days=3)\n",
    "for u in udata.keys():\n",
    "    udata[u]['time_buckets'] = ts_to_buckets(udata[u]['times'], min_time, interval)\n",
    "# for r in rdata.keys():\n",
    "#     rdata[r]['time_buckets'] = ts_to_buckets(rdata[r]['times'], min_time, interval)\n",
    "for u,r in data.keys():\n",
    "    data[(u,r)]['time_buckets'] = ts_to_buckets(data[(u,r)]['times'], min_time, interval)"
   ]
  },
  {
   "cell_type": "code",
   "execution_count": 57,
   "metadata": {},
   "outputs": [
    {
     "name": "stdout",
     "output_type": "stream",
     "text": [
      "{'actions': [u'IssueCommentEvent',\n",
      "             u'PullRequestEvent',\n",
      "             u'CreateEvent',\n",
      "             u'IssueCommentEvent'],\n",
      " 'commits': 0,\n",
      " 'time_buckets': [7, 10, 10, 6],\n",
      " 'times': [datetime.datetime(2015, 1, 22, 10, 33, 48),\n",
      "           datetime.datetime(2015, 1, 29, 12, 4, 52),\n",
      "           datetime.datetime(2015, 1, 29, 12, 55, 9),\n",
      "           datetime.datetime(2015, 1, 16, 17, 51, 16)],\n",
      " 'user_is_owner': False}\n"
     ]
    }
   ],
   "source": [
    "pprint( data.items()[15][1] )"
   ]
  },
  {
   "cell_type": "code",
   "execution_count": null,
   "metadata": {
    "collapsed": true
   },
   "outputs": [],
   "source": []
  }
 ],
 "metadata": {
  "kernelspec": {
   "display_name": "Python 2",
   "language": "python",
   "name": "python2"
  },
  "language_info": {
   "codemirror_mode": {
    "name": "ipython",
    "version": 2
   },
   "file_extension": ".py",
   "mimetype": "text/x-python",
   "name": "python",
   "nbconvert_exporter": "python",
   "pygments_lexer": "ipython2",
   "version": "2.7.12"
  }
 },
 "nbformat": 4,
 "nbformat_minor": 2
}
