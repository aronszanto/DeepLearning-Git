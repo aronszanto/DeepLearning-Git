{
 "cells": [
  {
   "cell_type": "code",
   "execution_count": 133,
   "metadata": {
    "collapsed": true
   },
   "outputs": [],
   "source": [
    "%matplotlib inline\n",
    "\n",
    "from collections import Counter, defaultdict\n",
    "import json\n",
    "import numpy as np\n",
    "import pandas as pd\n",
    "import matplotlib.pyplot as plt\n",
    "import os\n",
    "from scipy.stats.stats import pearsonr\n",
    "import cPickle as pkl\n",
    "import sys\n",
    "from datetime import datetime\n",
    "from sklearn.ensemble import *\n",
    "import seaborn as sns\n",
    "from hmmlearn import hmm\n",
    "import warnings\n",
    "warnings.filterwarnings('ignore')\n",
    "from sklearn.metrics import *\n",
    "from sklearn.svm import *\n",
    "from sklearn.linear_model import Ridge"
   ]
  },
  {
   "cell_type": "code",
   "execution_count": 2,
   "metadata": {
    "collapsed": true
   },
   "outputs": [],
   "source": [
    "type_enc = {u'MemberEvent_diff': 19, u'IssuesEvent_same': 12, u'DeleteEvent_same': 6, u'IssuesEvent_diff': 26, u'PullRequestReviewCommentEvent_diff': 16, u'CreateEvent_diff': 27, u'DeleteEvent_diff': 20, u'ReleaseEvent_diff': 14, u'CreateEvent_same': 13, u'CommitCommentEvent_same': 10, u'ReleaseEvent_same': 0, u'PublicEvent_diff': 15, u'WatchEvent_same': 11, u'IssueCommentEvent_diff': 21, u'PullRequestReviewCommentEvent_same': 2, u'PullRequestEvent_diff': 23, u'PublicEvent_same': 1, u'ForkEvent_diff': 17, u'GollumEvent_diff': 18, u'CommitCommentEvent_diff': 24, u'GollumEvent_same': 4, u'PushEvent_same': 8, u'PullRequestEvent_same': 9, u'ForkEvent_same': 3, u'WatchEvent_diff': 25, u'IssueCommentEvent_same': 7, u'MemberEvent_same': 5, u'PushEvent_diff': 22}"
   ]
  },
  {
   "cell_type": "code",
   "execution_count": 56,
   "metadata": {},
   "outputs": [],
   "source": [
    "rdata, udata, data, users, repos = pkl.load(open('dataset720_pruned_2_40.pkl', 'rb')) # LOAD"
   ]
  },
  {
   "cell_type": "code",
   "execution_count": 64,
   "metadata": {
    "collapsed": true
   },
   "outputs": [],
   "source": [
    "rinput = defaultdict(list)\n",
    "for u,r in data.keys():\n",
    "    if len(data[(u,r)]['actions']) > 10:\n",
    "        rinput[r].append([type_enc[a+'_same'] for a in data[(u,r)]['actions']])"
   ]
  },
  {
   "cell_type": "code",
   "execution_count": 66,
   "metadata": {},
   "outputs": [
    {
     "name": "stdout",
     "output_type": "stream",
     "text": [
      "717\n"
     ]
    }
   ],
   "source": [
    "print len([r for r in rinput.keys() if len(rinput[r]) > 5])"
   ]
  },
  {
   "cell_type": "code",
   "execution_count": 97,
   "metadata": {
    "collapsed": true
   },
   "outputs": [],
   "source": [
    "lentrain = int(len(rinput) * .8)\n",
    "rtrain = rinput.items()[:lentrain]\n",
    "rtest = rinput.items()[lentrain:lentrain * 2]"
   ]
  },
  {
   "cell_type": "code",
   "execution_count": 98,
   "metadata": {
    "collapsed": true
   },
   "outputs": [],
   "source": [
    "hmmdata_train = []\n",
    "hmmdata_test = []\n",
    "for r,d in rtrain:\n",
    "    hmmdata_train.extend(d)\n",
    "lens_train = [len(h) for h in hmmdata_train]\n",
    "\n",
    "for r,d in rtest:\n",
    "    hmmdata_test.extend(d)\n",
    "lens_test = [len(h) for h in hmmdata_test]\n",
    "\n"
   ]
  },
  {
   "cell_type": "code",
   "execution_count": 99,
   "metadata": {
    "collapsed": true
   },
   "outputs": [],
   "source": [
    "X_train = np.concatenate(hmmdata_train)\n",
    "X_test = np.concatenate(hmmdata_test)"
   ]
  },
  {
   "cell_type": "code",
   "execution_count": 100,
   "metadata": {},
   "outputs": [
    {
     "name": "stdout",
     "output_type": "stream",
     "text": [
      "2455372\n"
     ]
    }
   ],
   "source": [
    "print len(X_train)"
   ]
  },
  {
   "cell_type": "code",
   "execution_count": 75,
   "metadata": {
    "collapsed": true
   },
   "outputs": [],
   "source": [
    "n_components = 10\n",
    "model = hmm.MultinomialHMM(n_components=n_components, n_iter=20, algorithm='viterbi')"
   ]
  },
  {
   "cell_type": "code",
   "execution_count": 76,
   "metadata": {},
   "outputs": [
    {
     "data": {
      "text/plain": [
       "MultinomialHMM(algorithm='viterbi', init_params='ste', n_components=10,\n",
       "        n_iter=20, params='ste',\n",
       "        random_state=<mtrand.RandomState object at 0x7f85f41021e0>,\n",
       "        startprob_prior=1.0, tol=0.01, transmat_prior=1.0, verbose=False)"
      ]
     },
     "execution_count": 76,
     "metadata": {},
     "output_type": "execute_result"
    }
   ],
   "source": [
    "model.fit(np.atleast_2d(X_train).T,lens_train)"
   ]
  },
  {
   "cell_type": "code",
   "execution_count": 77,
   "metadata": {},
   "outputs": [],
   "source": [
    "pkl.dump(model, open('HMM_.2.pkl', 'wb'))"
   ]
  },
  {
   "cell_type": "code",
   "execution_count": 78,
   "metadata": {
    "collapsed": true
   },
   "outputs": [],
   "source": [
    "label_encodings = ['MemberEvent_same',\n",
    " 'PublicEvent_same',\n",
    " 'PullRequestReviewCommentEvent_same',\n",
    " 'ForkEvent_same',\n",
    " 'GollumEvent_same',\n",
    " 'ReleaseEvent_same',\n",
    " 'PullRequestEvent_same',\n",
    " 'IssueCommentEvent_same',\n",
    " 'PushEvent_same',\n",
    " 'DeleteEvent_same',\n",
    " 'CommitCommentEvent_same',\n",
    " 'WatchEvent_same',\n",
    " 'IssuesEvent_same',\n",
    " 'CreateEvent_same']"
   ]
  },
  {
   "cell_type": "code",
   "execution_count": 36,
   "metadata": {},
   "outputs": [
    {
     "data": {
      "image/png": "[encoded data removed]",
      "text/plain": [
       "<matplotlib.figure.Figure at 0x7fd59f9b44d0>"
      ]
     },
     "metadata": {},
     "output_type": "display_data"
    }
   ],
   "source": [
    "sns.set_style('whitegrid')\n",
    "sns.set_context('talk')\n",
    "\n",
    "xcoords = np.arange(14)\n",
    "plt.figure(figsize=(20,7))\n",
    "ax = plt.subplot(111)\n",
    "xcoord = .3\n",
    "colors = sns.color_palette()\n",
    "for n in range(n_components):\n",
    "    ax.bar(xcoords - xcoord + n*1./(n_components+1), model.emissionprob_[n], width = 1./(n_components+1), color=colors[n])\n",
    "ax.set_xticklabels(label_encodings, rotation='vertical')\n",
    "\n",
    "plt.xlim([-.5,14])\n",
    "plt.xticks(np.arange(0,14)+.15)\n",
    "\n",
    "plt.show()\n"
   ]
  },
  {
   "cell_type": "code",
   "execution_count": 101,
   "metadata": {
    "collapsed": true
   },
   "outputs": [],
   "source": [
    "repo_states_train = defaultdict(list)\n",
    "repo_states_test = defaultdict(list)\n",
    "\n",
    "for r, d in rtrain:\n",
    "    for  u in d:\n",
    "        repo_states_train[r].append(model.predict(np.atleast_2d(u).T))\n",
    "        \n",
    "for r, d in rtest:\n",
    "    for  u in d:\n",
    "        repo_states_test[r].append(model.predict(np.atleast_2d(u).T))"
   ]
  },
  {
   "cell_type": "code",
   "execution_count": 102,
   "metadata": {
    "collapsed": true
   },
   "outputs": [],
   "source": [
    "repo_props_train = defaultdict(list)\n",
    "for r in repo_states_train.keys():\n",
    "    for l in repo_states_train[r]:\n",
    "        c = Counter(l)\n",
    "        sp = np.array([float(c[i])/sum(c.values()) for i in range(n_components)])\n",
    "        repo_props_train[r].append(sp)\n",
    "\n",
    "repo_props_test = defaultdict(list)\n",
    "for r in repo_states_test.keys():\n",
    "    for l in repo_states_test[r]:\n",
    "        c = Counter(l)\n",
    "        sp = np.array([float(c[i])/sum(c.values()) for i in range(n_components)])\n",
    "        repo_props_test[r].append(sp)"
   ]
  },
  {
   "cell_type": "code",
   "execution_count": 103,
   "metadata": {
    "collapsed": true
   },
   "outputs": [],
   "source": [
    "for r in repo_props_train.keys():\n",
    "    repo_props_train[r] = sum(np.array(repo_props_train[r]))/len(repo_props_train[r])\n",
    "\n",
    "for r in repo_props_test.keys():\n",
    "    repo_props_test[r] = sum(np.array(repo_props_test[r]))/len(repo_props_test[r])"
   ]
  },
  {
   "cell_type": "code",
   "execution_count": 104,
   "metadata": {
    "collapsed": true
   },
   "outputs": [],
   "source": [
    "y_stars_train = []\n",
    "y_forks_train = []\n",
    "y_stars_test = []\n",
    "y_sum_train = []\n",
    "y_forks_test = []\n",
    "y_sum_test = []\n",
    "X_train = []\n",
    "X_test = []\n",
    "for r in repo_props_train.keys():\n",
    "    y_stars_train.append(rdata[r]['stars'])\n",
    "    y_forks_train.append(rdata[r]['forks'])\n",
    "    y_sum_train.append(rdata[r]['forks'] + rdata[r]['stars'])\n",
    "    X_train.append(repo_props_train[r])\n",
    "for r in repo_props_test.keys():\n",
    "    y_stars_test.append(rdata[r]['stars'])\n",
    "    y_forks_test.append(rdata[r]['forks'])\n",
    "    y_sum_test.append(rdata[r]['forks'] + rdata[r]['stars'])\n",
    "    X_test.append(repo_props_test[r])"
   ]
  },
  {
   "cell_type": "code",
   "execution_count": 106,
   "metadata": {},
   "outputs": [
    {
     "name": "stdout",
     "output_type": "stream",
     "text": [
      "23485\n"
     ]
    }
   ],
   "source": [
    "print len(y_sum_train)"
   ]
  },
  {
   "cell_type": "code",
   "execution_count": 118,
   "metadata": {},
   "outputs": [],
   "source": [
    "y_sorted_train = sorted(y_sum_train)\n",
    "y_sorted_test = sorted(y_sum_test)\n",
    "cutoff_train = y_sorted_train[int(len(y_sorted_train) * .75)]\n",
    "cutoff_test = y_sorted_test[int(len(y_sorted_test) * .75)]\n",
    "y_bin_train = [1 if y > cutoff_train else 0 for y in y_sum_train]\n",
    "y_bin_test = [1 if y > cutoff_test else 0 for y in y_sum_test]"
   ]
  },
  {
   "cell_type": "code",
   "execution_count": 143,
   "metadata": {},
   "outputs": [
    {
     "data": {
      "text/plain": [
       "ExtraTreesClassifier(bootstrap=False, class_weight=None, criterion='gini',\n",
       "           max_depth=30, max_features='auto', max_leaf_nodes=None,\n",
       "           min_impurity_split=1e-07, min_samples_leaf=4,\n",
       "           min_samples_split=2, min_weight_fraction_leaf=0.0,\n",
       "           n_estimators=200, n_jobs=-1, oob_score=False, random_state=None,\n",
       "           verbose=0, warm_start=False)"
      ]
     },
     "execution_count": 143,
     "metadata": {},
     "output_type": "execute_result"
    }
   ],
   "source": [
    "clf = ExtraTreesClassifier(n_estimators=200, n_jobs=-1, max_depth=30, min_samples_leaf=4)\n",
    "clf.fit(X_train, y_bin_train)"
   ]
  },
  {
   "cell_type": "code",
   "execution_count": 144,
   "metadata": {},
   "outputs": [
    {
     "name": "stdout",
     "output_type": "stream",
     "text": [
      "ae train 0.828486267831\n",
      "ae test 0.777247956403\n"
     ]
    }
   ],
   "source": [
    "preds_train = clf.predict(X_train)\n",
    "preds_test = clf.predict(X_test)\n",
    "# print \"mae train\", mean_absolute_error(preds_train, y_forks_train)\n",
    "# print \"mae test\", mean_absolute_error(preds_test, y_forks_test)\n",
    "print \"ae train\", accuracy_score(preds_train, y_bin_train)\n",
    "print \"ae test\", accuracy_score(preds_test, y_bin_test)"
   ]
  },
  {
   "cell_type": "code",
   "execution_count": 114,
   "metadata": {},
   "outputs": [
    {
     "name": "stdout",
     "output_type": "stream",
     "text": [
      "[(4.3766152169021311, 14), (13.142579875302468, 4), (1.2473210430573054, 0), (8.2693241235646529, 1), (1.4547097328839949, 0), (1.3410500615661294, 0), (3.7707613688428179, 1), (7.5438318252814698, 9), (1.6831476333213347, 0), (2.7404070348843459, 0)]\n"
     ]
    }
   ],
   "source": [
    "print zip(preds_test, y_sum_test)[:10]"
   ]
  },
  {
   "cell_type": "code",
   "execution_count": 199,
   "metadata": {},
   "outputs": [
    {
     "name": "stdout",
     "output_type": "stream",
     "text": [
      "[array([ 0.        ,  0.        ,  0.00888889,  0.        ,  0.        ,\n",
      "        0.00444444,  0.        ,  0.00888889,  0.00444444,  0.00444444,\n",
      "        0.00888889,  0.        ,  0.        ,  0.        ,  0.02222222,\n",
      "        0.        ,  0.0125    ,  0.01333333,  0.        ,  0.        ,\n",
      "        0.        ,  0.        ,  0.        ,  0.        ,  0.        ,\n",
      "        0.49416667,  0.41333333,  0.00444444,  0.        ,  0.        ])]\n"
     ]
    }
   ],
   "source": [
    "print X_train[:1]"
   ]
  },
  {
   "cell_type": "code",
   "execution_count": null,
   "metadata": {
    "collapsed": true
   },
   "outputs": [],
   "source": []
  }
 ],
 "metadata": {
  "kernelspec": {
   "display_name": "Python 2",
   "language": "python",
   "name": "python2"
  },
  "language_info": {
   "codemirror_mode": {
    "name": "ipython",
    "version": 2
   },
   "file_extension": ".py",
   "mimetype": "text/x-python",
   "name": "python",
   "nbconvert_exporter": "python",
   "pygments_lexer": "ipython2",
   "version": "2.7.12"
  }
 },
 "nbformat": 4,
 "nbformat_minor": 2
}
