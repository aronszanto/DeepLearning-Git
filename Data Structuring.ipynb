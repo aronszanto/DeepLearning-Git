{
 "cells": [
  {
   "cell_type": "code",
   "execution_count": 7,
   "metadata": {
    "collapsed": true
   },
   "outputs": [],
   "source": [
    "%matplotlib inline\n",
    "\n",
    "from collections import Counter, defaultdict\n",
    "import json\n",
    "import numpy as np\n",
    "import pandas as pd\n",
    "import matplotlib.pyplot as plt\n",
    "import os\n",
    "from scipy.stats.stats import pearsonr\n",
    "import cPickle as pkl\n",
    "from datetime import datetime\n",
    "\n",
    "import seaborn as sns"
   ]
  },
  {
   "cell_type": "code",
   "execution_count": 8,
   "metadata": {
    "collapsed": true
   },
   "outputs": [],
   "source": [
    "all_files = [fname for fname in os.listdir('data') if fname[-4:] == \"json\" and '2015-01' in fname]\n"
   ]
  },
  {
   "cell_type": "code",
   "execution_count": 14,
   "metadata": {
    "collapsed": true
   },
   "outputs": [],
   "source": [
    " \n",
    "def extract_features(n_files):# load all events\n",
    "    rdata = defaultdict(dict) # number of times each user interacted, number of each event\n",
    "    udata = defaultdict(dict) # number of each event\n",
    "    data = defaultdict(dict)\n",
    "    users = set()\n",
    "    repos = set()\n",
    "    for i, fname in enumerate(all_files[:n_files]):\n",
    "        if i % 5 == 0:\n",
    "            print (i + 1), \"out of\", len(all_files), \"files loaded\"\n",
    "        for line in open(os.path.join(\"data\", fname), 'r'):\n",
    "            e = json.loads(line)\n",
    "            user = e['actor']['login']\n",
    "            repo = e['repo']['name']\n",
    "            users.add(user)\n",
    "            repos.add(repo)\n",
    "            if (user,repo) in data:\n",
    "                data[(user,repo)]['actions'].append(e['type'])\n",
    "                data[(user,repo)]['times'].append(datetime.strptime(e['created_at'], \"%Y-%m-%dT%H:%M:%SZ\"))\n",
    "                if e['type'] == 'PushEvent':\n",
    "                    data[(user,repo)]['commits'] += e['payload']['distinct_size']\n",
    "                if e['type'] == 'WatchEvent':\n",
    "                    data[(user,repo)]['starred'] = True\n",
    "                if e['type'] == 'ForkEvent':\n",
    "                    data[(user,repo)]['forked'] = True\n",
    "            else:\n",
    "                data[(user,repo)]['user_is_owner'] = (user + '/') in repo\n",
    "                data[(user,repo)]['actions'] = [e['type']]\n",
    "                data[(user,repo)]['times'] = [datetime.strptime(e['created_at'], \"%Y-%m-%dT%H:%M:%SZ\")]\n",
    "                data[(user,repo)]['commits'] = 0\n",
    "                if e['type'] == 'PushEvent':\n",
    "                    data[(user,repo)]['commits'] = e['payload']['distinct_size']\n",
    "\n",
    "\n",
    "\n",
    "            if repo in rdata:\n",
    "                rdata[repo]['actions'].append(e['type'])\n",
    "                if e['type'] == 'PushEvent':\n",
    "                    rdata[repo]['commits'] += e['payload']['distinct_size']\n",
    "                if e['type'] == 'WatchEvent':\n",
    "                    rdata[repo]['stars'] += 1\n",
    "                if e['type'] == 'ForkEvent':\n",
    "                    rdata[repo]['forks'] += 1\n",
    "            else:\n",
    "                rdata[repo]['commits'] = 0\n",
    "                rdata[repo]['stars'] = 0\n",
    "                rdata[repo]['forks'] = 0\n",
    "                rdata[repo]['actions'] = [e['type']]\n",
    "                if e['type'] == 'PushEvent':\n",
    "                    rdata[repo]['commits'] = e['payload']['distinct_size']\n",
    "                if e['type'] == 'WatchEvent':\n",
    "                    rdata[repo]['stars'] = 1\n",
    "                if e['type'] == 'ForkEvent':\n",
    "                    rdata[repo]['forks'] = 1\n",
    "            if user in udata:\n",
    "                udata[user]['actions'].append(e['type'])\n",
    "                udata[user]['times'].append(datetime.strptime(e['created_at'], \"%Y-%m-%dT%H:%M:%SZ\"))\n",
    "            else:\n",
    "                udata[user]['actions'] = [e['type']]\n",
    "                udata[user]['times']= [datetime.strptime(e['created_at'], \"%Y-%m-%dT%H:%M:%SZ\")]\n",
    "\n",
    "    ucommits = defaultdict(int)\n",
    "    urepos = defaultdict(set)\n",
    "    rcommits = defaultdict(int)\n",
    "    rusers = defaultdict(set)\n",
    "    for (u,r) in data.keys():\n",
    "        d = data[(u,r)]\n",
    "        ucommits[u] += d['commits']\n",
    "        urepos[u].add(r)\n",
    "        rcommits[r] += d['commits']\n",
    "        rusers[r].add(u)\n",
    "\n",
    "    users = set([u for u,_ in data.keys()])\n",
    "    repos = set([r for _,r in data.keys()])\n",
    "    for u in users:\n",
    "        uaction_counter = Counter(udata[u]['actions'])\n",
    "        udata[u]['num_forks'] = uaction_counter['ForkEvent']\n",
    "        udata[u]['num_pushes'] = uaction_counter['PushEvent']\n",
    "        udata[u]['num_stars'] = uaction_counter['WatchEvent']\n",
    "        udata[u]['num_commits'] = ucommits[u]\n",
    "        udata[u]['repos'] = urepos[u]\n",
    "    for r in repos:\n",
    "        rdata[r]['users'] = rusers[r]\n",
    "    return rdata, udata, data, users, repos"
   ]
  },
  {
   "cell_type": "code",
   "execution_count": 15,
   "metadata": {},
   "outputs": [
    {
     "name": "stdout",
     "output_type": "stream",
     "text": [
      "1 out of 720 files loaded\n",
      "6 out of 720 files loaded\n",
      "11 out of 720 files loaded\n",
      "16 out of 720 files loaded\n",
      "21 out of 720 files loaded\n",
      "26 out of 720 files loaded\n",
      "31 out of 720 files loaded\n",
      "36 out of 720 files loaded\n",
      "41 out of 720 files loaded\n",
      "46 out of 720 files loaded\n",
      "51 out of 720 files loaded\n",
      "56 out of 720 files loaded\n"
     ]
    }
   ],
   "source": [
    "rdata, udata, data, users, repos = extract_features(60)\n",
    "\n"
   ]
  },
  {
   "cell_type": "code",
   "execution_count": 16,
   "metadata": {},
   "outputs": [
    {
     "name": "stdout",
     "output_type": "stream",
     "text": [
      "['commits', 'forks', 'actions', 'stars', 'users']\n",
      "['num_stars', 'repos', 'actions', 'times', 'num_forks', 'num_pushes', 'num_commits']\n",
      "['commits', 'user_is_owner', 'actions', 'times']\n",
      "ulen 285592\n",
      "rlen 334163\n",
      "dlen 499321\n",
      "ulen_after 4459\n",
      "rlen_after 3767\n",
      "dlen_after 7747\n"
     ]
    }
   ],
   "source": [
    "# prune data: rdata, udata, data, users, repos\n",
    "print rdata.items()[0][1].keys()\n",
    "print udata.items()[0][1].keys()\n",
    "print data.items()[0][1].keys()\n",
    "users = set(users)\n",
    "users_list = list(users)\n",
    "repos = set(repos)\n",
    "repos_list = list(repos)\n",
    "print 'ulen', len(users)\n",
    "print 'rlen', len(repos)\n",
    "print 'dlen', len(data)\n",
    "for u in users_list:\n",
    "    if len(udata[u]['repos']) < 4 or len(udata[u]['actions']) < 20:\n",
    "        users.remove(u)\n",
    "        udata.pop(u, None)\n",
    "for r in repos_list:\n",
    "    if len(rdata[r]['users']) < 4 or len(rdata[r]['actions']) < 20:\n",
    "        repos.remove(r)\n",
    "        rdata.pop(r, None)\n",
    "for (u,r) in data.keys():\n",
    "    if u not in users or r not in repos:\n",
    "        data.pop((u,r), None)\n",
    "print 'ulen_after', len(users)\n",
    "print 'rlen_after', len(repos)\n",
    "print 'dlen_after', len(data)"
   ]
  },
  {
   "cell_type": "code",
   "execution_count": 17,
   "metadata": {},
   "outputs": [],
   "source": [
    "# pkl.dump((rdata, udata, data, users, repos), open('data_structuring.pkl', 'wb')) # DUMP\n",
    "rdata, udata, data, users, repos = pkl.load(open('data_structuring.pkl', 'rb')) # LOAD"
   ]
  },
  {
   "cell_type": "code",
   "execution_count": 18,
   "metadata": {},
   "outputs": [
    {
     "name": "stdout",
     "output_type": "stream",
     "text": [
      "(0.1204356292065373, 1.2034725849561794e-13)\n"
     ]
    }
   ],
   "source": [
    "numforks = [b['forks'] for _,b in rdata.items()]\n",
    "numstars = [b['stars'] for _,b in rdata.items()]\n",
    "print pearsonr(numforks, numstars)"
   ]
  },
  {
   "cell_type": "code",
   "execution_count": 22,
   "metadata": {},
   "outputs": [
    {
     "data": {
      "image/png": "[encoded data removed]",
      "text/plain": [
       "<matplotlib.figure.Figure at 0x7f320b672710>"
      ]
     },
     "metadata": {},
     "output_type": "display_data"
    }
   ],
   "source": [
    "c = Counter(ucommits.values())\n",
    "df = pd.DataFrame.from_dict(c, orient='index')\n",
    "\n",
    "df.plot(kind='bar', logy=True, figsize=(10,5))\n",
    "plt.xlabel(\"number commits\")\n",
    "plt.ylabel(\"number of users\")\n",
    "plt.xlim([0,60])\n",
    "plt.show()"
   ]
  },
  {
   "cell_type": "code",
   "execution_count": 28,
   "metadata": {},
   "outputs": [
    {
     "name": "stdout",
     "output_type": "stream",
     "text": [
      "0 out of 720 files loaded\n",
      "{u'actor': {u'avatar_url': u'https://avatars.githubusercontent.com/u/1484298?',\n",
      "            u'gravatar_id': u'',\n",
      "            u'id': 1484298,\n",
      "            u'login': u'minhhai3b',\n",
      "            u'url': u'https://api.github.com/users/minhhai3b'},\n",
      " u'created_at': u'2015-01-13T02:00:00Z',\n",
      " u'id': u'2508406478',\n",
      " u'payload': {u'forkee': {u'archive_url': u'https://api.github.com/repos/minhhai3b/CakePHP-Backbone-Todos/{archive_format}{/ref}',\n",
      "                          u'assignees_url': u'https://api.github.com/repos/minhhai3b/CakePHP-Backbone-Todos/assignees{/user}',\n",
      "                          u'blobs_url': u'https://api.github.com/repos/minhhai3b/CakePHP-Backbone-Todos/git/blobs{/sha}',\n",
      "                          u'branches_url': u'https://api.github.com/repos/minhhai3b/CakePHP-Backbone-Todos/branches{/branch}',\n",
      "                          u'clone_url': u'https://github.com/minhhai3b/CakePHP-Backbone-Todos.git',\n",
      "                          u'collaborators_url': u'https://api.github.com/repos/minhhai3b/CakePHP-Backbone-Todos/collaborators{/collaborator}',\n",
      "                          u'comments_url': u'https://api.github.com/repos/minhhai3b/CakePHP-Backbone-Todos/comments{/number}',\n",
      "                          u'commits_url': u'https://api.github.com/repos/minhhai3b/CakePHP-Backbone-Todos/commits{/sha}',\n",
      "                          u'compare_url': u'https://api.github.com/repos/minhhai3b/CakePHP-Backbone-Todos/compare/{base}...{head}',\n",
      "                          u'contents_url': u'https://api.github.com/repos/minhhai3b/CakePHP-Backbone-Todos/contents/{+path}',\n",
      "                          u'contributors_url': u'https://api.github.com/repos/minhhai3b/CakePHP-Backbone-Todos/contributors',\n",
      "                          u'created_at': u'2015-01-13T01:59:59Z',\n",
      "                          u'default_branch': u'master',\n",
      "                          u'description': u'A working demo of the classic Todo demo for backbone.js using CakePHP and MongoDb',\n",
      "                          u'downloads_url': u'https://api.github.com/repos/minhhai3b/CakePHP-Backbone-Todos/downloads',\n",
      "                          u'events_url': u'https://api.github.com/repos/minhhai3b/CakePHP-Backbone-Todos/events',\n",
      "                          u'fork': True,\n",
      "                          u'forks': 0,\n",
      "                          u'forks_count': 0,\n",
      "                          u'forks_url': u'https://api.github.com/repos/minhhai3b/CakePHP-Backbone-Todos/forks',\n",
      "                          u'full_name': u'minhhai3b/CakePHP-Backbone-Todos',\n",
      "                          u'git_commits_url': u'https://api.github.com/repos/minhhai3b/CakePHP-Backbone-Todos/git/commits{/sha}',\n",
      "                          u'git_refs_url': u'https://api.github.com/repos/minhhai3b/CakePHP-Backbone-Todos/git/refs{/sha}',\n",
      "                          u'git_tags_url': u'https://api.github.com/repos/minhhai3b/CakePHP-Backbone-Todos/git/tags{/sha}',\n",
      "                          u'git_url': u'git://github.com/minhhai3b/CakePHP-Backbone-Todos.git',\n",
      "                          u'has_downloads': True,\n",
      "                          u'has_issues': False,\n",
      "                          u'has_pages': False,\n",
      "                          u'has_wiki': True,\n",
      "                          u'homepage': None,\n",
      "                          u'hooks_url': u'https://api.github.com/repos/minhhai3b/CakePHP-Backbone-Todos/hooks',\n",
      "                          u'html_url': u'https://github.com/minhhai3b/CakePHP-Backbone-Todos',\n",
      "                          u'id': 29167678,\n",
      "                          u'issue_comment_url': u'https://api.github.com/repos/minhhai3b/CakePHP-Backbone-Todos/issues/comments/{number}',\n",
      "                          u'issue_events_url': u'https://api.github.com/repos/minhhai3b/CakePHP-Backbone-Todos/issues/events{/number}',\n",
      "                          u'issues_url': u'https://api.github.com/repos/minhhai3b/CakePHP-Backbone-Todos/issues{/number}',\n",
      "                          u'keys_url': u'https://api.github.com/repos/minhhai3b/CakePHP-Backbone-Todos/keys{/key_id}',\n",
      "                          u'labels_url': u'https://api.github.com/repos/minhhai3b/CakePHP-Backbone-Todos/labels{/name}',\n",
      "                          u'language': u'JavaScript',\n",
      "                          u'languages_url': u'https://api.github.com/repos/minhhai3b/CakePHP-Backbone-Todos/languages',\n",
      "                          u'merges_url': u'https://api.github.com/repos/minhhai3b/CakePHP-Backbone-Todos/merges',\n",
      "                          u'milestones_url': u'https://api.github.com/repos/minhhai3b/CakePHP-Backbone-Todos/milestones{/number}',\n",
      "                          u'mirror_url': None,\n",
      "                          u'name': u'CakePHP-Backbone-Todos',\n",
      "                          u'notifications_url': u'https://api.github.com/repos/minhhai3b/CakePHP-Backbone-Todos/notifications{?since,all,participating}',\n",
      "                          u'open_issues': 0,\n",
      "                          u'open_issues_count': 0,\n",
      "                          u'owner': {u'avatar_url': u'https://avatars.githubusercontent.com/u/1484298?v=3',\n",
      "                                     u'events_url': u'https://api.github.com/users/minhhai3b/events{/privacy}',\n",
      "                                     u'followers_url': u'https://api.github.com/users/minhhai3b/followers',\n",
      "                                     u'following_url': u'https://api.github.com/users/minhhai3b/following{/other_user}',\n",
      "                                     u'gists_url': u'https://api.github.com/users/minhhai3b/gists{/gist_id}',\n",
      "                                     u'gravatar_id': u'',\n",
      "                                     u'html_url': u'https://github.com/minhhai3b',\n",
      "                                     u'id': 1484298,\n",
      "                                     u'login': u'minhhai3b',\n",
      "                                     u'organizations_url': u'https://api.github.com/users/minhhai3b/orgs',\n",
      "                                     u'received_events_url': u'https://api.github.com/users/minhhai3b/received_events',\n",
      "                                     u'repos_url': u'https://api.github.com/users/minhhai3b/repos',\n",
      "                                     u'site_admin': False,\n",
      "                                     u'starred_url': u'https://api.github.com/users/minhhai3b/starred{/owner}{/repo}',\n",
      "                                     u'subscriptions_url': u'https://api.github.com/users/minhhai3b/subscriptions',\n",
      "                                     u'type': u'User',\n",
      "                                     u'url': u'https://api.github.com/users/minhhai3b'},\n",
      "                          u'private': False,\n",
      "                          u'public': True,\n",
      "                          u'pulls_url': u'https://api.github.com/repos/minhhai3b/CakePHP-Backbone-Todos/pulls{/number}',\n",
      "                          u'pushed_at': u'2012-09-01T20:48:40Z',\n",
      "                          u'releases_url': u'https://api.github.com/repos/minhhai3b/CakePHP-Backbone-Todos/releases{/id}',\n",
      "                          u'size': 100,\n",
      "                          u'ssh_url': u'git@github.com:minhhai3b/CakePHP-Backbone-Todos.git',\n",
      "                          u'stargazers_count': 0,\n",
      "                          u'stargazers_url': u'https://api.github.com/repos/minhhai3b/CakePHP-Backbone-Todos/stargazers',\n",
      "                          u'statuses_url': u'https://api.github.com/repos/minhhai3b/CakePHP-Backbone-Todos/statuses/{sha}',\n",
      "                          u'subscribers_url': u'https://api.github.com/repos/minhhai3b/CakePHP-Backbone-Todos/subscribers',\n",
      "                          u'subscription_url': u'https://api.github.com/repos/minhhai3b/CakePHP-Backbone-Todos/subscription',\n",
      "                          u'svn_url': u'https://github.com/minhhai3b/CakePHP-Backbone-Todos',\n",
      "                          u'tags_url': u'https://api.github.com/repos/minhhai3b/CakePHP-Backbone-Todos/tags',\n",
      "                          u'teams_url': u'https://api.github.com/repos/minhhai3b/CakePHP-Backbone-Todos/teams',\n",
      "                          u'trees_url': u'https://api.github.com/repos/minhhai3b/CakePHP-Backbone-Todos/git/trees{/sha}',\n",
      "                          u'updated_at': u'2015-01-13T01:59:59Z',\n",
      "                          u'url': u'https://api.github.com/repos/minhhai3b/CakePHP-Backbone-Todos',\n",
      "                          u'watchers': 0,\n",
      "                          u'watchers_count': 0}},\n",
      " u'public': True,\n",
      " u'repo': {u'id': 5560238,\n",
      "           u'name': u'mackstar/CakePHP-Backbone-Todos',\n",
      "           u'url': u'https://api.github.com/repos/mackstar/CakePHP-Backbone-Todos'},\n",
      " u'type': u'ForkEvent'}\n"
     ]
    }
   ],
   "source": [
    "for i, fname in enumerate(all_files[:1]):\n",
    "    if i+1 %1 == 0:\n",
    "            print i, \"out of\", len(all_files), \"files loaded\"\n",
    "    for line in open(os.path.join(\"data\", fname), 'r'):\n",
    "        e = json.loads(line)\n",
    "        from pprint import pprint\n",
    "        pprint(e)\n",
    "        break\n",
    "    break"
   ]
  },
  {
   "cell_type": "code",
   "execution_count": null,
   "metadata": {
    "collapsed": true
   },
   "outputs": [],
   "source": []
  }
 ],
 "metadata": {
  "anaconda-cloud": {},
  "kernelspec": {
   "display_name": "Python 2",
   "language": "python",
   "name": "python2"
  },
  "language_info": {
   "codemirror_mode": {
    "name": "ipython",
    "version": 2
   },
   "file_extension": ".py",
   "mimetype": "text/x-python",
   "name": "python",
   "nbconvert_exporter": "python",
   "pygments_lexer": "ipython2",
   "version": "2.7.12"
  }
 },
 "nbformat": 4,
 "nbformat_minor": 1
}
