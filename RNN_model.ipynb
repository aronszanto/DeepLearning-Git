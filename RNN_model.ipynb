{
 "cells": [
  {
   "cell_type": "code",
   "execution_count": 1,
   "metadata": {
    "collapsed": true
   },
   "outputs": [],
   "source": [
    "%matplotlib inline\n",
    "import cPickle as pkl\n",
    "import pandas as pd\n",
    "import numpy as np\n",
    "import os,sys\n",
    "import matplotlib.pyplot as plt\n",
    "import seaborn as sns"
   ]
  },
  {
   "cell_type": "code",
   "execution_count": 2,
   "metadata": {},
   "outputs": [
    {
     "name": "stderr",
     "output_type": "stream",
     "text": [
      "Using TensorFlow backend.\n"
     ]
    }
   ],
   "source": [
    "from keras.preprocessing import sequence\n",
    "from keras.models import Sequential\n",
    "from keras.layers import Dense, Embedding\n",
    "from keras.layers import LSTM, GRU, SimpleRNN, TimeDistributed, Activation\n",
    "from keras.utils.np_utils import to_categorical"
   ]
  },
  {
   "cell_type": "code",
   "execution_count": 3,
   "metadata": {
    "collapsed": true
   },
   "outputs": [],
   "source": [
    "dataset = pkl.load(open('dataset.pkl', 'rb'))"
   ]
  },
  {
   "cell_type": "code",
   "execution_count": 4,
   "metadata": {},
   "outputs": [],
   "source": [
    "rnndata = [dataset[u] for u in dataset.keys() if \"bot\" not in str(u)]\n",
    "rnndata = [h for h in rnndata if len(h) == 40]#150 > len(h) and len(h) > 140]\n",
    "rnndata = np.array(rnndata) #+ 1"
   ]
  },
  {
   "cell_type": "code",
   "execution_count": 5,
   "metadata": {},
   "outputs": [
    {
     "name": "stdout",
     "output_type": "stream",
     "text": [
      "28\n"
     ]
    }
   ],
   "source": [
    "## Hyperparameters\n",
    "\n",
    "# max sequence length.\n",
    "maxlen = 39\n",
    "vocab_size = max([max(x) for x in rnndata])+1\n",
    "hidden = 25\n",
    "print vocab_size"
   ]
  },
  {
   "cell_type": "code",
   "execution_count": 6,
   "metadata": {},
   "outputs": [
    {
     "name": "stdout",
     "output_type": "stream",
     "text": [
      "Splitting data...\n",
      "(1466, 'train sequences')\n",
      "(163, 'test sequences')\n",
      "Pad sequences (samples x time)\n",
      "('x_train shape:', (1466, 39))\n",
      "('y_train shape:', (1466, 39, 28))\n",
      "('x_test shape:', (163, 39))\n"
     ]
    }
   ],
   "source": [
    "print('Splitting data...')\n",
    "x_train = rnndata[:int(len(rnndata)*.9)]\n",
    "y_train = to_categorical(np.array(x_train)[:,1:], num_classes=None).reshape(len(x_train),maxlen,vocab_size)\n",
    "x_train = np.array(x_train)[:,:-1]\n",
    "x_test = rnndata[int(len(rnndata)*.9):]\n",
    "y_test = to_categorical(np.array(x_test)[:,1:], num_classes=None).reshape(len(x_test),maxlen,vocab_size)\n",
    "x_test = np.array(x_test)[:,:-1]\n",
    "print(len(x_train), 'train sequences')\n",
    "print(len(x_test), 'test sequences')\n",
    "\n",
    "print('Pad sequences (samples x time)')\n",
    "x_train = sequence.pad_sequences(x_train, maxlen=maxlen)\n",
    "x_test = sequence.pad_sequences(x_test, maxlen=maxlen)\n",
    "print('x_train shape:', x_train.shape)\n",
    "print('y_train shape:', y_train.shape)\n",
    "print('x_test shape:', x_test.shape)"
   ]
  },
  {
   "cell_type": "code",
   "execution_count": 7,
   "metadata": {},
   "outputs": [
    {
     "name": "stdout",
     "output_type": "stream",
     "text": [
      "Build model...\n"
     ]
    }
   ],
   "source": [
    "print('Build model...')\n",
    "model = Sequential()\n",
    "model.add(Embedding(maxlen, hidden))\n",
    "model.add(LSTM(hidden, dropout=0.2, recurrent_dropout=0.2, return_sequences=True))\n",
    "model.add(TimeDistributed(Dense(vocab_size)))\n",
    "model.add(Activation(activation='softmax'))\n",
    "\n",
    "# try using different optimizers and different optimizer configs\n",
    "model.compile(loss='categorical_crossentropy', optimizer='adam', metrics=['accuracy'])"
   ]
  },
  {
   "cell_type": "code",
   "execution_count": 182,
   "metadata": {},
   "outputs": [
    {
     "name": "stdout",
     "output_type": "stream",
     "text": [
      "Epoch 1/1\n",
      "1466/1466 [==============================] - 169s - loss: 1.4190 - acc: 0.5948   \n"
     ]
    },
    {
     "data": {
      "text/plain": [
       "<keras.callbacks.History at 0x1539751d0>"
      ]
     },
     "execution_count": 182,
     "metadata": {},
     "output_type": "execute_result"
    }
   ],
   "source": [
    "model.fit(x_train, y_train, batch_size=1, nb_epoch=1, verbose=1)"
   ]
  },
  {
   "cell_type": "code",
   "execution_count": 184,
   "metadata": {},
   "outputs": [
    {
     "data": {
      "text/plain": [
       "array([[ 0.53190732,  0.73210365,  0.49607837,  0.37680081,  0.56965637,\n",
       "         0.33259222,  0.54526728,  0.03003332,  0.49743149,  0.56810021,\n",
       "         0.67079663,  0.71695769,  0.74097621,  0.75773829,  0.41169599,\n",
       "         0.34631202,  0.49114072,  0.60219252,  0.52182341,  0.36765316,\n",
       "         0.56983232,  0.34266227,  0.60488969,  0.62855732,  0.69140041,\n",
       "         0.72843754,  0.55654669,  0.35963205,  0.3039937 ,  0.0453179 ,\n",
       "         0.11452239,  0.45874083,  0.51785058,  0.5348019 ,  0.43377963,\n",
       "         0.57761008,  0.49403003,  0.58711571,  0.67757785],\n",
       "       [ 0.53190732,  0.73210365,  0.83282137,  0.87502134,  0.8977105 ,\n",
       "         0.91134244,  0.9198283 ,  0.92523581,  0.92877382,  0.93115669,\n",
       "         0.93280965,  0.93398786,  0.93484819,  0.93548977,  0.93597692,\n",
       "         0.93635243,  0.93664527,  0.93687612,  0.93706012,  0.93720722,\n",
       "         0.93732607,  0.93742234,  0.93750077,  0.93756491,  0.93761718,\n",
       "         0.93766052,  0.9376958 ,  0.93772507,  0.93774939,  0.93776911,\n",
       "         0.93778574,  0.09033754,  0.65913635,  0.74999732,  0.82228816,\n",
       "         0.85767853,  0.87842268,  0.89232022,  0.90216452]], dtype=float32)"
      ]
     },
     "execution_count": 184,
     "metadata": {},
     "output_type": "execute_result"
    }
   ],
   "source": [
    "# only probabilities for push to same\n",
    "model.predict(x_train[:2])[:,:,8]"
   ]
  },
  {
   "cell_type": "code",
   "execution_count": 187,
   "metadata": {},
   "outputs": [
    {
     "name": "stdout",
     "output_type": "stream",
     "text": [
      "20/20 [==============================] - 0s\n"
     ]
    },
    {
     "data": {
      "text/plain": [
       "[1.375880241394043, 0.60384613275527954]"
      ]
     },
     "execution_count": 187,
     "metadata": {},
     "output_type": "execute_result"
    }
   ],
   "source": [
    "model.evaluate(x_train[:20], y_train[:20], verbose=1, sample_weight=None)"
   ]
  },
  {
   "cell_type": "markdown",
   "metadata": {},
   "source": [
    "## Autoencoder"
   ]
  },
  {
   "cell_type": "code",
   "execution_count": 162,
   "metadata": {
    "collapsed": true
   },
   "outputs": [],
   "source": [
    "from keras.layers.recurrent import LSTM\n",
    "from keras.optimizers import Adagrad\n",
    "from keras.losses import sparse_categorical_crossentropy\n",
    "from keras.layers import Input, LSTM, RepeatVector\n",
    "from keras.models import Model\n",
    "\n",
    "from sklearn.manifold import TSNE"
   ]
  },
  {
   "cell_type": "code",
   "execution_count": 112,
   "metadata": {},
   "outputs": [],
   "source": [
    "embedding_size = 5\n",
    "encoding_size = 5\n",
    "x_train = x_train\n",
    "x_out = to_categorical(np.array(x_train), num_classes=None).reshape(len(x_train),maxlen,vocab_size)\n",
    "#x_out = to_categorical(x_train)"
   ]
  },
  {
   "cell_type": "code",
   "execution_count": 147,
   "metadata": {},
   "outputs": [],
   "source": [
    "inputs = Input(shape=(maxlen,))\n",
    "embs = Embedding(output_dim=embedding_size, input_dim=vocab_size, input_length=maxlen)(inputs)\n",
    "\n",
    "encoded = LSTM(encoding_size)(embs)\n",
    "\n",
    "decoded = RepeatVector(maxlen)(encoded)\n",
    "decoded = LSTM(vocab_size, return_sequences=True)(decoded)\n",
    "\n",
    "activs = Activation(activation='softmax')(decoded)\n",
    "\n",
    "sequence_autoencoder = Model(inputs, activs)\n",
    "encoder = Model(inputs, encoded)"
   ]
  },
  {
   "cell_type": "code",
   "execution_count": 148,
   "metadata": {
    "collapsed": true
   },
   "outputs": [],
   "source": [
    "sequence_autoencoder.compile(loss='categorical_crossentropy', optimizer='adagrad')"
   ]
  },
  {
   "cell_type": "code",
   "execution_count": 149,
   "metadata": {
    "scrolled": true
   },
   "outputs": [
    {
     "name": "stdout",
     "output_type": "stream",
     "text": [
      "Epoch 1/20\n",
      "1466/1466 [==============================] - 16s - loss: 2.6478    \n",
      "Epoch 2/20\n",
      "1466/1466 [==============================] - 14s - loss: 2.4153    \n",
      "Epoch 3/20\n",
      "1466/1466 [==============================] - 19s - loss: 2.3884    \n",
      "Epoch 4/20\n",
      "1466/1466 [==============================] - 16s - loss: 2.3784    \n",
      "Epoch 5/20\n",
      "1466/1466 [==============================] - 16s - loss: 2.3767    \n",
      "Epoch 6/20\n",
      "1466/1466 [==============================] - 15s - loss: 2.3674    \n",
      "Epoch 7/20\n",
      "1466/1466 [==============================] - 15s - loss: 2.3638    \n",
      "Epoch 8/20\n",
      "1466/1466 [==============================] - 14s - loss: 2.4063    \n",
      "Epoch 9/20\n",
      "1466/1466 [==============================] - 16s - loss: 2.3604    \n",
      "Epoch 10/20\n",
      "1466/1466 [==============================] - 15s - loss: 2.3594    \n",
      "Epoch 11/20\n",
      "1466/1466 [==============================] - 15s - loss: 2.3563    \n",
      "Epoch 12/20\n",
      "1466/1466 [==============================] - 14s - loss: 2.3560    \n",
      "Epoch 13/20\n",
      "1466/1466 [==============================] - 15s - loss: 2.3547    \n",
      "Epoch 14/20\n",
      "1466/1466 [==============================] - 15s - loss: 2.3542    \n",
      "Epoch 15/20\n",
      "1466/1466 [==============================] - 15s - loss: 2.3525    \n",
      "Epoch 16/20\n",
      "1466/1466 [==============================] - 15s - loss: 2.3522    \n",
      "Epoch 17/20\n",
      "1466/1466 [==============================] - 25s - loss: 2.3506    \n",
      "Epoch 18/20\n",
      "1466/1466 [==============================] - 18s - loss: 2.3495    \n",
      "Epoch 19/20\n",
      "1466/1466 [==============================] - 16s - loss: 2.3490    \n",
      "Epoch 20/20\n",
      "1466/1466 [==============================] - 14s - loss: 2.3466    \n"
     ]
    },
    {
     "data": {
      "text/plain": [
       "<keras.callbacks.History at 0x153ada890>"
      ]
     },
     "execution_count": 149,
     "metadata": {},
     "output_type": "execute_result"
    }
   ],
   "source": [
    "sequence_autoencoder.fit(x_train,x_out, epochs=20,  batch_size=20)"
   ]
  },
  {
   "cell_type": "code",
   "execution_count": 135,
   "metadata": {},
   "outputs": [],
   "source": [
    "test_encodings = encoder.predict(x_test)"
   ]
  },
  {
   "cell_type": "code",
   "execution_count": 150,
   "metadata": {},
   "outputs": [],
   "source": [
    "reduc = TSNE()\n",
    "dimens = reduc.fit_transform(test_encodings)"
   ]
  },
  {
   "cell_type": "code",
   "execution_count": 233,
   "metadata": {},
   "outputs": [
    {
     "data": {
      "image/png": "[encoded data removed]",
      "text/plain": [
       "<matplotlib.figure.Figure at 0x16086dc50>"
      ]
     },
     "metadata": {},
     "output_type": "display_data"
    }
   ],
   "source": [
    "colors = sns.color_palette()\n",
    "sns.set_style('whitegrid')\n",
    "sns.set_context('paper')\n",
    "plt.scatter(*zip(*dimens), s=50, label='All', c=colors[1],alpha=.6)\n",
    "# Pusher\n",
    "activeness_mask = [1 if (x == 8).mean() > .75 else 0 for x in x_test]\n",
    "plt.scatter(*zip(*[dimens[i] for i, v in enumerate(dimens) \n",
    "                   if activeness_mask[i]==1]), s=50, label='Active', \n",
    "                c=colors[0])\n",
    "# Issue Commenter\n",
    "passivemask = np.array([1 if ((x == 26) | (x == 21)| (x == 7) | (x == 12)).mean() > .2 else 0 for x in x_test])\n",
    "plt.scatter(*zip(*[dimens[i] for i, v in enumerate(dimens) if passivemask[i]==1]), \n",
    "            s=50, label='Issue Comments', c=colors[2])\n",
    "\n",
    "# Watch diff\n",
    "watchmask = np.array([1 if ((x == 25) | (x == 17)).mean() > .2 else 0 for x in x_test])\n",
    "plt.scatter(*zip(*[dimens[i] for i, v in enumerate(dimens) if watchmask[i]==1]), \n",
    "            s=50, label='Watch and Fork', c=colors[3])\n",
    "plt.legend(fontsize=10, loc=2)\n",
    "plt.axis('off')\n",
    "\n",
    "plt.show()"
   ]
  },
  {
   "cell_type": "code",
   "execution_count": 213,
   "metadata": {
    "collapsed": true
   },
   "outputs": [],
   "source": [
    "label_encodings = ['MemberEvent_same',\n",
    " 'PublicEvent_same',\n",
    " 'PullRequestReviewCommentEvent_same',\n",
    " 'ForkEvent_same',\n",
    " 'GollumEvent_same',\n",
    " 'ReleaseEvent_same',\n",
    " 'PullRequestEvent_same',\n",
    " 'IssueCommentEvent_same',\n",
    " 'PushEvent_same',\n",
    " 'DeleteEvent_same',\n",
    " 'CommitCommentEvent_same',\n",
    " 'WatchEvent_same',\n",
    " 'IssuesEvent_same',\n",
    " 'CreateEvent_same',\n",
    " 'MemberEvent_diff',\n",
    " 'PublicEvent_diff',\n",
    " 'PullRequestReviewCommentEvent_diff',\n",
    " 'ForkEvent_diff',\n",
    " 'GollumEvent_diff',\n",
    " 'ReleaseEvent_diff',\n",
    " 'PullRequestEvent_diff',\n",
    " 'IssueCommentEvent_diff',\n",
    " 'PushEvent_diff',\n",
    " 'DeleteEvent_diff',\n",
    " 'CommitCommentEvent_diff',\n",
    " 'WatchEvent_diff',\n",
    " 'IssuesEvent_diff',\n",
    " 'CreateEvent_diff']"
   ]
  },
  {
   "cell_type": "code",
   "execution_count": 214,
   "metadata": {},
   "outputs": [
    {
     "name": "stdout",
     "output_type": "stream",
     "text": [
      "0 MemberEvent_same\n",
      "1 PublicEvent_same\n",
      "2 PullRequestReviewCommentEvent_same\n",
      "3 ForkEvent_same\n",
      "4 GollumEvent_same\n",
      "5 ReleaseEvent_same\n",
      "6 PullRequestEvent_same\n",
      "7 IssueCommentEvent_same\n",
      "8 PushEvent_same\n",
      "9 DeleteEvent_same\n",
      "10 CommitCommentEvent_same\n",
      "11 WatchEvent_same\n",
      "12 IssuesEvent_same\n",
      "13 CreateEvent_same\n",
      "14 MemberEvent_diff\n",
      "15 PublicEvent_diff\n",
      "16 PullRequestReviewCommentEvent_diff\n",
      "17 ForkEvent_diff\n",
      "18 GollumEvent_diff\n",
      "19 ReleaseEvent_diff\n",
      "20 PullRequestEvent_diff\n",
      "21 IssueCommentEvent_diff\n",
      "22 PushEvent_diff\n",
      "23 DeleteEvent_diff\n",
      "24 CommitCommentEvent_diff\n",
      "25 WatchEvent_diff\n",
      "26 IssuesEvent_diff\n",
      "27 CreateEvent_diff\n"
     ]
    }
   ],
   "source": [
    "for i, l in enumerate(label_encodings):\n",
    "    print i,l"
   ]
  },
  {
   "cell_type": "markdown",
   "metadata": {},
   "source": [
    "## HMM embeddings "
   ]
  },
  {
   "cell_type": "code",
   "execution_count": 236,
   "metadata": {
    "collapsed": true
   },
   "outputs": [],
   "source": [
    "from hmmlearn import hmm\n",
    "\n",
    "import warnings\n",
    "warnings.filterwarnings('ignore')"
   ]
  },
  {
   "cell_type": "code",
   "execution_count": 240,
   "metadata": {},
   "outputs": [],
   "source": [
    "n_components = 4\n",
    "model = hmm.MultinomialHMM(n_components=n_components, n_iter=40, algorithm='viterbi')\n",
    "lens = [len(h) for h in x_train]\n",
    "hmmdata = [[h for h in x] for x in x_train]\n",
    "X = np.concatenate(hmmdata)"
   ]
  },
  {
   "cell_type": "code",
   "execution_count": 241,
   "metadata": {},
   "outputs": [
    {
     "data": {
      "text/plain": [
       "MultinomialHMM(algorithm='viterbi', init_params='ste', n_components=4,\n",
       "        n_iter=40, params='ste',\n",
       "        random_state=<mtrand.RandomState object at 0x104e69e60>,\n",
       "        startprob_prior=1.0, tol=0.01, transmat_prior=1.0, verbose=False)"
      ]
     },
     "execution_count": 241,
     "metadata": {},
     "output_type": "execute_result"
    }
   ],
   "source": [
    "model.fit(np.atleast_2d(X).T,lens)"
   ]
  },
  {
   "cell_type": "code",
   "execution_count": 249,
   "metadata": {
    "collapsed": true
   },
   "outputs": [],
   "source": [
    "hmmtest = np.concatenate([[h for h in x] for x in x_test])\n",
    "test_states = model.predict(np.atleast_2d(hmmtest).T)\n",
    "test_lens = [len(h) for h in x_test]"
   ]
  },
  {
   "cell_type": "code",
   "execution_count": 250,
   "metadata": {},
   "outputs": [
    {
     "data": {
      "text/plain": [
       "(6357,)"
      ]
     },
     "execution_count": 250,
     "metadata": {},
     "output_type": "execute_result"
    }
   ],
   "source": [
    "test_states.shape"
   ]
  },
  {
   "cell_type": "code",
   "execution_count": 251,
   "metadata": {},
   "outputs": [],
   "source": [
    "i = 0\n",
    "states_split = []\n",
    "for l in test_lens:\n",
    "    states_split.append([test_states[i:i+l]])\n",
    "    i += l\n",
    "states_split= [l[0] for l in states_split]"
   ]
  },
  {
   "cell_type": "code",
   "execution_count": 252,
   "metadata": {
    "collapsed": true
   },
   "outputs": [],
   "source": [
    "from collections import Counter\n",
    "state_props = []\n",
    "for u in states_split:\n",
    "    c = Counter(u)\n",
    "    sp = [float(c[i])/sum(c.values()) for i in range(n_components)]\n",
    "    state_props.append(sp)"
   ]
  },
  {
   "cell_type": "code",
   "execution_count": 256,
   "metadata": {},
   "outputs": [],
   "source": [
    "test_representation = np.array(state_props)"
   ]
  },
  {
   "cell_type": "markdown",
   "metadata": {},
   "source": [
    "## Save User Representation"
   ]
  },
  {
   "cell_type": "code",
   "execution_count": 257,
   "metadata": {
    "collapsed": true
   },
   "outputs": [],
   "source": [
    "import h5py"
   ]
  },
  {
   "cell_type": "code",
   "execution_count": null,
   "metadata": {
    "collapsed": true
   },
   "outputs": [],
   "source": [
    "with open(\"representations.h5\", 'w') as f:"
   ]
  },
  {
   "cell_type": "markdown",
   "metadata": {},
   "source": [
    "## To Do \n",
    "\n",
    "- Save Repo and User ID with testset for large model\n",
    "- Do proper train test split (first 40 for train, last 20+ for test)\n",
    "- MIPs with extra user information"
   ]
  },
  {
   "cell_type": "code",
   "execution_count": null,
   "metadata": {
    "collapsed": true
   },
   "outputs": [],
   "source": []
  }
 ],
 "metadata": {
  "anaconda-cloud": {},
  "kernelspec": {
   "display_name": "Python 2",
   "language": "python",
   "name": "python2"
  },
  "language_info": {
   "codemirror_mode": {
    "name": "ipython",
    "version": 2
   },
   "file_extension": ".py",
   "mimetype": "text/x-python",
   "name": "python",
   "nbconvert_exporter": "python",
   "pygments_lexer": "ipython2",
   "version": "2.7.12"
  }
 },
 "nbformat": 4,
 "nbformat_minor": 1
}
