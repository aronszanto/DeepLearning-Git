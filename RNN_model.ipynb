{
 "cells": [
  {
   "cell_type": "code",
   "execution_count": 1,
   "metadata": {
    "collapsed": true
   },
   "outputs": [],
   "source": [
    "%matplotlib inline\n",
    "import cPickle as pkl\n",
    "import pandas as pd\n",
    "import numpy as np\n",
    "import os,sys\n",
    "import matplotlib.pyplot as plt\n",
    "import seaborn as sns"
   ]
  },
  {
   "cell_type": "code",
   "execution_count": 46,
   "metadata": {
    "collapsed": false
   },
   "outputs": [],
   "source": [
    "from keras.preprocessing import sequence\n",
    "from keras.models import Sequential\n",
    "from keras.layers import Dense, Embedding\n",
    "from keras.layers import LSTM, GRU, SimpleRNN, TimeDistributed, Activation\n",
    "from keras.utils.np_utils import to_categorical"
   ]
  },
  {
   "cell_type": "code",
   "execution_count": 3,
   "metadata": {
    "collapsed": true
   },
   "outputs": [],
   "source": [
    "dataset = pkl.load(open('dataset.pkl', 'rb'))"
   ]
  },
  {
   "cell_type": "code",
   "execution_count": 164,
   "metadata": {
    "collapsed": false
   },
   "outputs": [],
   "source": [
    "rnndata = [dataset[u] for u in dataset.keys() if \"bot\" not in str(u)]\n",
    "rnndata = [h for h in rnndata if len(h) == 40]#150 > len(h) and len(h) > 140]\n",
    "rnndata = np.array(rnndata) #+ 1"
   ]
  },
  {
   "cell_type": "code",
   "execution_count": 171,
   "metadata": {
    "collapsed": false
   },
   "outputs": [
    {
     "name": "stdout",
     "output_type": "stream",
     "text": [
      "28\n"
     ]
    }
   ],
   "source": [
    "## Hyperparameters\n",
    "\n",
    "# max sequence length.\n",
    "maxlen = 39\n",
    "vocab_size = max([max(x) for x in rnndata])+1\n",
    "hidden = 25\n",
    "print vocab_size"
   ]
  },
  {
   "cell_type": "code",
   "execution_count": 173,
   "metadata": {
    "collapsed": false
   },
   "outputs": [
    {
     "name": "stdout",
     "output_type": "stream",
     "text": [
      "Splitting data...\n",
      "(1466, 'train sequences')\n",
      "(163, 'test sequences')\n",
      "Pad sequences (samples x time)\n",
      "('x_train shape:', (1466, 39))\n",
      "('y_train shape:', (1466, 39, 28))\n",
      "('x_test shape:', (163, 39))\n"
     ]
    }
   ],
   "source": [
    "print('Splitting data...')\n",
    "x_train = rnndata[:int(len(rnndata)*.9)]\n",
    "y_train = to_categorical(np.array(x_train)[:,1:], num_classes=None).reshape(len(x_train),maxlen,vocab_size)\n",
    "x_train = np.array(x_train)[:,:-1]\n",
    "x_test = rnndata[int(len(rnndata)*.9):]\n",
    "y_test = to_categorical(np.array(x_test)[:,1:], num_classes=None).reshape(len(x_test),maxlen,vocab_size)\n",
    "x_test = np.array(x_test)[:,:-1]\n",
    "print(len(x_train), 'train sequences')\n",
    "print(len(x_test), 'test sequences')\n",
    "\n",
    "print('Pad sequences (samples x time)')\n",
    "x_train = sequence.pad_sequences(x_train, maxlen=maxlen)\n",
    "x_test = sequence.pad_sequences(x_test, maxlen=maxlen)\n",
    "print('x_train shape:', x_train.shape)\n",
    "print('y_train shape:', y_train.shape)\n",
    "print('x_test shape:', x_test.shape)"
   ]
  },
  {
   "cell_type": "code",
   "execution_count": 174,
   "metadata": {
    "collapsed": false
   },
   "outputs": [
    {
     "name": "stdout",
     "output_type": "stream",
     "text": [
      "Build model...\n"
     ]
    }
   ],
   "source": [
    "print('Build model...')\n",
    "model = Sequential()\n",
    "model.add(Embedding(maxlen, hidden))\n",
    "model.add(LSTM(hidden, dropout=0.2, recurrent_dropout=0.2, return_sequences=True))\n",
    "model.add(TimeDistributed(Dense(vocab_size)))\n",
    "model.add(Activation(activation='softmax'))\n",
    "\n",
    "# try using different optimizers and different optimizer configs\n",
    "model.compile(loss='categorical_crossentropy', optimizer='adam', metrics=['accuracy'])"
   ]
  },
  {
   "cell_type": "code",
   "execution_count": 182,
   "metadata": {
    "collapsed": false
   },
   "outputs": [
    {
     "name": "stdout",
     "output_type": "stream",
     "text": [
      "Epoch 1/1\n",
      "1466/1466 [==============================] - 169s - loss: 1.4190 - acc: 0.5948   \n"
     ]
    },
    {
     "data": {
      "text/plain": [
       "<keras.callbacks.History at 0x1539751d0>"
      ]
     },
     "execution_count": 182,
     "metadata": {},
     "output_type": "execute_result"
    }
   ],
   "source": [
    "model.fit(x_train, y_train, batch_size=1, nb_epoch=1, verbose=1)"
   ]
  },
  {
   "cell_type": "code",
   "execution_count": 184,
   "metadata": {
    "collapsed": false
   },
   "outputs": [
    {
     "data": {
      "text/plain": [
       "array([[ 0.53190732,  0.73210365,  0.49607837,  0.37680081,  0.56965637,\n",
       "         0.33259222,  0.54526728,  0.03003332,  0.49743149,  0.56810021,\n",
       "         0.67079663,  0.71695769,  0.74097621,  0.75773829,  0.41169599,\n",
       "         0.34631202,  0.49114072,  0.60219252,  0.52182341,  0.36765316,\n",
       "         0.56983232,  0.34266227,  0.60488969,  0.62855732,  0.69140041,\n",
       "         0.72843754,  0.55654669,  0.35963205,  0.3039937 ,  0.0453179 ,\n",
       "         0.11452239,  0.45874083,  0.51785058,  0.5348019 ,  0.43377963,\n",
       "         0.57761008,  0.49403003,  0.58711571,  0.67757785],\n",
       "       [ 0.53190732,  0.73210365,  0.83282137,  0.87502134,  0.8977105 ,\n",
       "         0.91134244,  0.9198283 ,  0.92523581,  0.92877382,  0.93115669,\n",
       "         0.93280965,  0.93398786,  0.93484819,  0.93548977,  0.93597692,\n",
       "         0.93635243,  0.93664527,  0.93687612,  0.93706012,  0.93720722,\n",
       "         0.93732607,  0.93742234,  0.93750077,  0.93756491,  0.93761718,\n",
       "         0.93766052,  0.9376958 ,  0.93772507,  0.93774939,  0.93776911,\n",
       "         0.93778574,  0.09033754,  0.65913635,  0.74999732,  0.82228816,\n",
       "         0.85767853,  0.87842268,  0.89232022,  0.90216452]], dtype=float32)"
      ]
     },
     "execution_count": 184,
     "metadata": {},
     "output_type": "execute_result"
    }
   ],
   "source": [
    "# only probabilities for push to same\n",
    "model.predict(x_train[:2])[:,:,8]"
   ]
  },
  {
   "cell_type": "code",
   "execution_count": 187,
   "metadata": {
    "collapsed": false
   },
   "outputs": [
    {
     "name": "stdout",
     "output_type": "stream",
     "text": [
      "20/20 [==============================] - 0s\n"
     ]
    },
    {
     "data": {
      "text/plain": [
       "[1.375880241394043, 0.60384613275527954]"
      ]
     },
     "execution_count": 187,
     "metadata": {},
     "output_type": "execute_result"
    }
   ],
   "source": [
    "model.evaluate(x_train[:20], y_train[:20], verbose=1, sample_weight=None)"
   ]
  },
  {
   "cell_type": "code",
   "execution_count": null,
   "metadata": {
    "collapsed": true
   },
   "outputs": [],
   "source": []
  }
 ],
 "metadata": {
  "anaconda-cloud": {},
  "kernelspec": {
   "display_name": "Python [conda root]",
   "language": "python",
   "name": "conda-root-py"
  },
  "language_info": {
   "codemirror_mode": {
    "name": "ipython",
    "version": 2
   },
   "file_extension": ".py",
   "mimetype": "text/x-python",
   "name": "python",
   "nbconvert_exporter": "python",
   "pygments_lexer": "ipython2",
   "version": "2.7.12"
  }
 },
 "nbformat": 4,
 "nbformat_minor": 1
}
