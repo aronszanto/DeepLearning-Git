{
 "cells": [
  {
   "cell_type": "code",
   "execution_count": 1,
   "metadata": {
    "collapsed": false
   },
   "outputs": [],
   "source": [
    "%matplotlib inline\n",
    "import cPickle as pkl\n",
    "import pandas as pd\n",
    "import networkx as nx\n",
    "import numpy as np\n",
    "import os,sys\n",
    "import matplotlib.pyplot as plt\n",
    "import seaborn as sns\n",
    "\n",
    "from collections import defaultdict"
   ]
  },
  {
   "cell_type": "code",
   "execution_count": 2,
   "metadata": {
    "collapsed": true
   },
   "outputs": [],
   "source": [
    "rdata, udata, data, users, repos = pkl.load(open('data_structuring_150.pkl', 'rb'))"
   ]
  },
  {
   "cell_type": "code",
   "execution_count": 3,
   "metadata": {
    "collapsed": false
   },
   "outputs": [
    {
     "data": {
      "text/plain": [
       "[{'actions': [u'IssueCommentEvent'],\n",
       "  'commits': 0,\n",
       "  'time_buckets': [9],\n",
       "  'times': [datetime.datetime(2015, 1, 26, 19, 5, 43)],\n",
       "  'user_is_owner': False},\n",
       " {'actions': [u'CommitCommentEvent', u'CommitCommentEvent'],\n",
       "  'commits': 0,\n",
       "  'time_buckets': [1, 1],\n",
       "  'times': [datetime.datetime(2015, 1, 1, 13, 17, 12),\n",
       "   datetime.datetime(2015, 1, 1, 13, 18, 4)],\n",
       "  'user_is_owner': False},\n",
       " {'actions': [u'PullRequestEvent'],\n",
       "  'commits': 0,\n",
       "  'time_buckets': [6],\n",
       "  'times': [datetime.datetime(2015, 1, 17, 4, 17, 44)],\n",
       "  'user_is_owner': False},\n",
       " {'actions': [u'IssuesEvent'],\n",
       "  'commits': 0,\n",
       "  'time_buckets': [6],\n",
       "  'times': [datetime.datetime(2015, 1, 16, 21, 5, 43)],\n",
       "  'user_is_owner': False},\n",
       " {'actions': [u'WatchEvent'],\n",
       "  'commits': 0,\n",
       "  'time_buckets': [2],\n",
       "  'times': [datetime.datetime(2015, 1, 6, 15, 44, 47)],\n",
       "  'user_is_owner': False}]"
      ]
     },
     "execution_count": 3,
     "metadata": {},
     "output_type": "execute_result"
    }
   ],
   "source": [
    "data.values()[:5]"
   ]
  },
  {
   "cell_type": "code",
   "execution_count": 4,
   "metadata": {
    "collapsed": false
   },
   "outputs": [],
   "source": [
    "label_encodings = {'MemberEvent': \"none\",\n",
    " 'PublicEvent': \"design\",\n",
    " 'PullRequestReviewCommentEvent': \"design\",\n",
    " 'ForkEvent': \"consume\",\n",
    " 'GollumEvent': \"design\",\n",
    " 'ReleaseEvent': \"none\",\n",
    " 'PullRequestEvent': \"content\",\n",
    " 'IssueCommentEvent': \"design\",\n",
    " 'PushEvent': \"content\",\n",
    " 'DeleteEvent': \"content\",\n",
    " 'CommitCommentEvent': \"design\",\n",
    " 'WatchEvent': \"consume\",\n",
    " 'IssuesEvent': \"design\",\n",
    " 'CreateEvent': \"content\"}"
   ]
  },
  {
   "cell_type": "code",
   "execution_count": 342,
   "metadata": {
    "collapsed": false
   },
   "outputs": [],
   "source": [
    "class MIPnet():\n",
    "    def __init__(self, P, R, decay = 0.9):\n",
    "        self.P = P # partner\n",
    "        self.R = R # repos\n",
    "        self.mip = nx.MultiGraph()\n",
    "        self.mip.add_nodes_from(self.P, ntype=\"user\")\n",
    "        self.mip.add_nodes_from(self.R, ntype=\"repo\")\n",
    "        self.centrality = {} # degree\n",
    "        self.userconnectedness = {} # weighted\n",
    "        self.userconnectedness2 = {} # number\n",
    "        self.prevContent = Counter()\n",
    "        self.prevDesign = Counter()\n",
    "        self.prevConsume = Counter()\n",
    "        \n",
    "        self.decay = decay\n",
    "        \n",
    "        \n",
    "    # currently, user-user, repo-repo increase by max 1 in weight, \n",
    "    # could also be 1 per common edit\n",
    "    def update_edges_for_time(self,ints):\n",
    "        thisBucketUserRepos = defaultdict(set)\n",
    "        thisBucketRepoUsers = defaultdict(set)\n",
    "        # create or update user-repo edges and repo-repo edges\n",
    "        for ix,i in enumerate(ints):\n",
    "            cuser, crepo, ctype, cowner = i\n",
    "            # Update Counts for User\n",
    "            if ctype == 'content':\n",
    "                self.prevContent[cuser] += 1\n",
    "            elif ctype == 'design':\n",
    "                self.prevDesign[cuser] += 1\n",
    "            elif ctype == 'consume':\n",
    "                self.prevDesign[cuser] += 1\n",
    "            \n",
    "            # repo-repo: create/update edge if not exists in current time\n",
    "            if crepo not in thisBucketUserRepos[cuser] and len(thisBucketUserRepos[cuser]) > 0:\n",
    "                for connectRepo in thisBucketUserRepos[cuser]:\n",
    "                    if self.mip.has_edge(crepo, connectRepo):\n",
    "                        self.mip[crepo][connectRepo][0]['weight']+=1\n",
    "                    else:\n",
    "                        self.mip.add_edge(crepo, connectRepo, weight=1, ntype='r-r')\n",
    "            thisBucketUserRepos[cuser].add(crepo)\n",
    "\n",
    "            # user-user, similar to repo-repo\n",
    "            if cuser not in thisBucketRepoUsers[crepo] and len(thisBucketRepoUsers[crepo]) > 0:\n",
    "                for connectUser in thisBucketRepoUsers[crepo]:\n",
    "                    if self.mip.has_edge(cuser, connectUser):\n",
    "                        self.mip[cuser][connectUser][0]['weight']+=1\n",
    "                    else:\n",
    "                        self.mip.add_edge(cuser, connectUser, weight=1, ntype='u-u')\n",
    "            thisBucketRepoUsers[crepo].add(cuser)\n",
    "\n",
    "            # user-repo\n",
    "            edge_exists = False\n",
    "            # check whether edge exists\n",
    "            if (cuser, crepo, None) in self.mip.edges(cuser,crepo):\n",
    "                # if yes, iterate over edges to find whether the correct edge exists\n",
    "                for ednum,val in self.mip[cuser][crepo].iteritems():\n",
    "                    if val['ntype'] == ctype:\n",
    "                        edge_exists = True\n",
    "                        self.mip[cuser][crepo][ednum]['weight']+=1\n",
    "            if not edge_exists:\n",
    "                self.mip.add_edge(cuser, crepo, weight=1, ntype=ctype, owner=cowner)\n",
    "        self.centrality = nx.degree_centrality(self.mip)\n",
    "        self.updateUserConnectedness()\n",
    "        \n",
    "    def updateUserConnectedness(self):\n",
    "        \"\"\"\n",
    "        Computes the average weight between users\n",
    "        \"\"\"\n",
    "        for r in self.R: \n",
    "            current_weight = 0.\n",
    "            number_connected = 0.\n",
    "            # Step 1: Get all users connected to a repo\n",
    "            U = [user for user, edge in self.mip[r].iteritems() if \n",
    "                       edge[0]['ntype'] in {'design', 'content', 'consume'}]\n",
    "            # Step 2: Get all edges between the users\n",
    "            for u1 in range(len(U)-1):\n",
    "                for u2 in range(u1+1, len(U)):\n",
    "                    try:\n",
    "                        current_weight += self.mip[U[u1]][U[u2]][0]['weight']\n",
    "                        number_connected += 1\n",
    "                    except: \n",
    "                        pass # If users have not edited in same time delta\n",
    "            # Step 3: Get number of possible connections\n",
    "            possible_connections = len(U) * (len(U) + 1) / 2 \n",
    "            # Step 4: Compute C1 and C2\n",
    "            if possible_connections == 0: \n",
    "                self.userconnectedness[r] = 0\n",
    "                self.userconnectedness2[r] = 0\n",
    "            else:\n",
    "                self.userconnectedness[r] = current_weight / possible_connections * 100\n",
    "                self.userconnectedness2[r] = number_connected / possible_connections * 100 \n",
    "        \n",
    "                \n",
    "    def decay_weights(self):\n",
    "        for u,v,d in self.mip.edges(data=True):\n",
    "            d['weight'] = d['weight'] * self.decay\n",
    "        "
   ]
  },
  {
   "cell_type": "code",
   "execution_count": 343,
   "metadata": {
    "collapsed": false
   },
   "outputs": [],
   "source": [
    "def get_all_interactions_for_timebucket(t):\n",
    "    #creates a list of time\n",
    "    counter = 0\n",
    "    interactions = [] #user, repo, type\n",
    "    for ix,key in data.iteritems():\n",
    "        try: # there is one empty set in the data...\n",
    "            for time, types in zip(key['time_buckets'], key['actions']):\n",
    "                if time == t:\n",
    "                    if not label_encodings[types] == \"none\":\n",
    "                        interactions.append((ix[0], \n",
    "                                             ix[1], \n",
    "                                             label_encodings[types], \n",
    "                                             key['user_is_owner']))\n",
    "                #print types, time, \n",
    "            counter +=1\n",
    "#         if counter > 100:\n",
    "#             print interactions\n",
    "#             break\n",
    "        except:\n",
    "            pass \n",
    "    print \"found\", len(interactions), \"interactions\"\n",
    "    return interactions"
   ]
  },
  {
   "cell_type": "code",
   "execution_count": 230,
   "metadata": {
    "collapsed": false
   },
   "outputs": [
    {
     "name": "stdout",
     "output_type": "stream",
     "text": [
      "found 16194 interactions\n"
     ]
    }
   ],
   "source": [
    "# Simulate time steps\n",
    "mip = MIPnet(users, repos)\n",
    "interactions_bucket1 = get_all_interactions_for_timebucket(1)\n",
    "mip.update_edges_for_time(interactions_bucket1)"
   ]
  },
  {
   "cell_type": "code",
   "execution_count": 344,
   "metadata": {
    "collapsed": false,
    "scrolled": true
   },
   "outputs": [
    {
     "name": "stdout",
     "output_type": "stream",
     "text": [
      "Bucket 1\n",
      "found 16194 interactions\n",
      "34048 Edges between 26735 Nodes\n",
      "Bucket 2\n",
      "found 23973 interactions\n",
      "65740 Edges between 26735 Nodes\n",
      "Bucket 3\n",
      "found 31620 interactions\n",
      "95379 Edges between 26735 Nodes\n",
      "Bucket 4\n",
      "found 26499 interactions\n",
      "120711 Edges between 26735 Nodes\n",
      "Bucket 5\n",
      "found 38469 interactions\n",
      "172204 Edges between 26735 Nodes\n",
      "Bucket 6\n",
      "found 28763 interactions\n",
      "199121 Edges between 26735 Nodes\n",
      "Bucket 7\n",
      "found 26121 interactions\n",
      "226551 Edges between 26735 Nodes\n",
      "Bucket 8\n",
      "found 25313 interactions\n",
      "251684 Edges between 26735 Nodes\n",
      "Bucket 9\n",
      "found 19782 interactions\n",
      "271002 Edges between 26735 Nodes\n"
     ]
    }
   ],
   "source": [
    "# simulate all time buckets\n",
    "mip = MIPnet(users, repos)\n",
    "for i in range(1,10):\n",
    "    print \"Bucket\", i\n",
    "    mip.update_edges_for_time(get_all_interactions_for_timebucket(i))\n",
    "    print len(mip.mip.edges()), \"Edges between\", len(users)+len(repos), \"Nodes\"\n",
    "    mip.decay_weights()"
   ]
  },
  {
   "cell_type": "code",
   "execution_count": 28,
   "metadata": {
    "collapsed": false
   },
   "outputs": [
    {
     "name": "stdout",
     "output_type": "stream",
     "text": [
      "{'ntype': 'content', 'weight': 9.850707420300003}\n",
      "{'ntype': 'design', 'weight': 3.4480423521000008}\n",
      "{'ntype': 'consume', 'weight': 0.7791456501000001}\n"
     ]
    }
   ],
   "source": [
    "for ednum,val in mip.mip[\"Angelfirenze\"][\"deadlyvipers/dojo_rules\"].iteritems():\n",
    "    print val"
   ]
  },
  {
   "cell_type": "code",
   "execution_count": 10,
   "metadata": {
    "collapsed": false
   },
   "outputs": [
    {
     "data": {
      "text/plain": [
       "{'actions': [u'IssueCommentEvent'],\n",
       " 'commits': 0,\n",
       " 'time_buckets': [9],\n",
       " 'times': [datetime.datetime(2015, 1, 26, 19, 5, 43)],\n",
       " 'user_is_owner': False}"
      ]
     },
     "execution_count": 10,
     "metadata": {},
     "output_type": "execute_result"
    }
   ],
   "source": [
    "data[data.keys()[0]]"
   ]
  },
  {
   "cell_type": "markdown",
   "metadata": {},
   "source": [
    "## Evaluation Section\n",
    "\n",
    "### adjusted MIP-DOI"
   ]
  },
  {
   "cell_type": "code",
   "execution_count": 11,
   "metadata": {
    "collapsed": true
   },
   "outputs": [],
   "source": [
    "import math"
   ]
  },
  {
   "cell_type": "code",
   "execution_count": 236,
   "metadata": {
    "collapsed": true
   },
   "outputs": [],
   "source": [
    "# How much should each weight be worth? Start with equal\n",
    "params_all = {\"u-u\": 1,\n",
    "          \"r-r\": 1,\n",
    "          \"content\": 1,\n",
    "          \"design\": 1,\n",
    "          \"consume\": 1,}\n",
    "params_content = {\"u-u\": 1,\n",
    "          \"r-r\": 1,\n",
    "          \"content\": 1,\n",
    "          \"design\": 0,\n",
    "          \"consume\": 0,}\n",
    "params_design = {\"u-u\": 1,\n",
    "          \"r-r\": 1,\n",
    "          \"content\": 0,\n",
    "          \"design\": 1,\n",
    "          \"consume\": 0,}\n",
    "params_consume = {\"u-u\": 1,\n",
    "          \"r-r\": 1,\n",
    "          \"content\": 0,\n",
    "          \"design\": 0,\n",
    "          \"consume\": 1,}\n",
    "params = [params_all, params_content, params_design, params_consume]\n",
    "# Ofras parameters\n",
    "alpha = .5\n",
    "beta = .5"
   ]
  },
  {
   "cell_type": "code",
   "execution_count": 326,
   "metadata": {
    "collapsed": false
   },
   "outputs": [
    {
     "data": {
      "text/plain": [
       "array([ 13.24644425,   2.14188017,  11.45761873,   3.71965458])"
      ]
     },
     "execution_count": 326,
     "metadata": {},
     "output_type": "execute_result"
    }
   ],
   "source": [
    "def connectionWeight(mip, n1,n2, gammas):\n",
    "    '''\n",
    "    Compute the connections weight for all interaction types\n",
    "    '''\n",
    "    weights = np.zeros(4)\n",
    "    for ednum,val in mip[n1][n2].iteritems():\n",
    "        weights[0] += val['weight'] * gammas[0][val['ntype']]\n",
    "        weights[1] += val['weight'] * gammas[1][val['ntype']]\n",
    "        weights[2] += val['weight'] * gammas[2][val['ntype']]\n",
    "        weights[3] += val['weight'] * gammas[3][val['ntype']]\n",
    "    return weights\n",
    "def adamicAdarProximity(mip, s, t, gammas):\n",
    "    proximity = [0.,0., 0., 0.]\n",
    "    if (mip.has_node(s)==False) | (mip.has_node(t)==False):\n",
    "        return [0.,0., 0., 0.]\n",
    "    for node in nx.common_neighbors(mip, s, t):\n",
    "        weights = connectionWeight(mip, s,node, gammas) + connectionWeight(mip, t,node, gammas)        \n",
    "        if weights[0]!=0: # 0 essentially means no connection\n",
    "            # gives more weight to \"rare\" shared neighbors, adding small number to avoid dividing by zero\n",
    "            proximity = proximity + (weights*(1/(math.log(mip.degree(node, weight = 'weight'))+1e-9))) \n",
    "    return proximity\n",
    "adamicAdarProximity(mip.mip, \"Angelfirenze\", \"deadlyvipers/dojo_rules\", params)\n",
    "#TODO rescale both values or learn alpha/beta"
   ]
  },
  {
   "cell_type": "code",
   "execution_count": 358,
   "metadata": {
    "collapsed": false
   },
   "outputs": [
    {
     "data": {
      "text/plain": [
       "1.7266518090000005"
      ]
     },
     "execution_count": 358,
     "metadata": {},
     "output_type": "execute_result"
    }
   ],
   "source": [
    "def computeUserInCommonWeight(mip, u,r):\n",
    "    w = 0.0\n",
    "    for u2 in mip[r].keys():\n",
    "        try: \n",
    "            w += mip[u][u2][0]['weight']\n",
    "        except:\n",
    "            pass\n",
    "    return w\n",
    "computeUserInCommonWeight(mip.mip, \"Angelfirenze\", \"deadlyvipers/dojo_rules\")"
   ]
  },
  {
   "cell_type": "code",
   "execution_count": 248,
   "metadata": {
    "collapsed": false
   },
   "outputs": [
    {
     "name": "stdout",
     "output_type": "stream",
     "text": [
      "(2.2937716657542757, 0.00018702775491882996, array([ 4.5873563 ,  0.83406478,  4.17032391,  0.41703239]))\n"
     ]
    }
   ],
   "source": [
    "def computeDOI(mip, u, r, params):\n",
    "    # precomputed centrality + scaling factor\n",
    "    API = mip.centrality[r] #* 100\n",
    "    prox = adamicAdarProximity(mip.mip,u,r, params)\n",
    "    #print API, prox\n",
    "    #print prox\n",
    "    return alpha * API + beta * prox[0], API, prox\n",
    "print computeDOI(mip, \"Angelfirenze\", \"deadlyvipers/dojo_rules\", params)\n"
   ]
  },
  {
   "cell_type": "markdown",
   "metadata": {},
   "source": [
    "## Test 1: Predict interactions from only DOI vs. linear model using DOI"
   ]
  },
  {
   "cell_type": "code",
   "execution_count": 74,
   "metadata": {
    "collapsed": true
   },
   "outputs": [],
   "source": [
    "from collections import Counter"
   ]
  },
  {
   "cell_type": "code",
   "execution_count": 180,
   "metadata": {
    "collapsed": false
   },
   "outputs": [
    {
     "name": "stdout",
     "output_type": "stream",
     "text": [
      "found 22769 interactions\n"
     ]
    }
   ],
   "source": [
    "test_ints = get_all_interactions_for_timebucket(10)\n",
    "y_truths = Counter()\n",
    "for p in test_ints:\n",
    "    #if p[2] == 'consume':\n",
    "    y_truths[(p[0],p[1])] = 1"
   ]
  },
  {
   "cell_type": "code",
   "execution_count": 250,
   "metadata": {
    "collapsed": false,
    "scrolled": true
   },
   "outputs": [
    {
     "name": "stdout",
     "output_type": "stream",
     "text": [
      "0\n",
      "100\n"
     ]
    }
   ],
   "source": [
    "X = []\n",
    "Y = []\n",
    "for ix, u in enumerate(users):\n",
    "    #print udata[u]['repos']\n",
    "    current_list = []\n",
    "    for ix2, r in enumerate(repos):\n",
    "        doi, api, prox =  computeDOI(mip,u,r,params)\n",
    "        current_list.append((doi,r,api,prox))\n",
    "#         if ix2 > 20:\n",
    "#             break\n",
    "    #current_list.sort()\n",
    "    for bla in current_list:#[-100:]:\n",
    "        if y_truths[(u,bla[1])] == 1:\n",
    "            X.append([bla[2], bla[3][0]])\n",
    "            Y.append(y_truths[(u,bla[1])])\n",
    "        elif np.random.rand() > .95:\n",
    "            X.append([bla[2], bla[3][0]])\n",
    "            Y.append(y_truths[(u,bla[1])])\n",
    "    if ix % 100 == 0:\n",
    "        print ix\n",
    "    if ix > 1000:\n",
    "        break\n",
    "X = np.array(X)\n",
    "Y = np.array(Y)"
   ]
  },
  {
   "cell_type": "code",
   "execution_count": 87,
   "metadata": {
    "collapsed": true
   },
   "outputs": [],
   "source": [
    "from sklearn.model_selection import cross_val_score\n",
    "from sklearn.linear_model import LogisticRegression\n",
    "from scipy.stats import pearsonr"
   ]
  },
  {
   "cell_type": "code",
   "execution_count": 251,
   "metadata": {
    "collapsed": false
   },
   "outputs": [
    {
     "data": {
      "text/plain": [
       "array([[ 0.01340431,  0.93390865]])"
      ]
     },
     "execution_count": 251,
     "metadata": {},
     "output_type": "execute_result"
    }
   ],
   "source": [
    "model = LogisticRegression()\n",
    "model.fit(X,Y)\n",
    "model.coef_#scores = cross_val_score(model, X, Y, cv=5, scoring='f1')"
   ]
  },
  {
   "cell_type": "code",
   "execution_count": 252,
   "metadata": {
    "collapsed": false
   },
   "outputs": [],
   "source": [
    "pos = X[[Y==1]]\n",
    "neg = X[[Y==0]]"
   ]
  },
  {
   "cell_type": "code",
   "execution_count": 253,
   "metadata": {
    "collapsed": false
   },
   "outputs": [
    {
     "name": "stdout",
     "output_type": "stream",
     "text": [
      "0.000601605944989 0.00015617580503\n",
      "1.02239905366 0.000985528729796\n"
     ]
    }
   ],
   "source": [
    "print pos[:,0].mean(), neg[:,0].mean()\n",
    "print pos[:,1].mean(), neg[:,1].mean()"
   ]
  },
  {
   "cell_type": "code",
   "execution_count": 254,
   "metadata": {
    "collapsed": false
   },
   "outputs": [],
   "source": [
    "y_hat = model.decision_function(X)\n",
    "y_hat_preds = model.predict(X)"
   ]
  },
  {
   "cell_type": "code",
   "execution_count": 255,
   "metadata": {
    "collapsed": true
   },
   "outputs": [],
   "source": [
    "from sklearn.metrics import classification_report, accuracy_score, roc_auc_score, roc_curve"
   ]
  },
  {
   "cell_type": "code",
   "execution_count": 256,
   "metadata": {
    "collapsed": false
   },
   "outputs": [
    {
     "name": "stdout",
     "output_type": "stream",
     "text": [
      "Accuracy 0.999288516268\n",
      "             precision    recall  f1-score   support\n",
      "\n",
      "          0       1.00      1.00      1.00     51968\n",
      "          1       0.33      0.03      0.05        36\n",
      "\n",
      "avg / total       1.00      1.00      1.00     52004\n",
      "\n"
     ]
    }
   ],
   "source": [
    "print \"Accuracy {}\".format(accuracy_score(Y, y_hat_preds))\n",
    "print classification_report(Y, y_hat_preds)"
   ]
  },
  {
   "cell_type": "code",
   "execution_count": 257,
   "metadata": {
    "collapsed": false
   },
   "outputs": [],
   "source": [
    "false_positive_rate, true_positive_rate, thresholds = roc_curve(Y, y_hat)\n",
    "auc = roc_auc_score(Y, y_hat)"
   ]
  },
  {
   "cell_type": "code",
   "execution_count": 258,
   "metadata": {
    "collapsed": false
   },
   "outputs": [
    {
     "data": {
      "image/png": "[encoded data removed]",
      "text/plain": [
       "<matplotlib.figure.Figure at 0x1ef70bfd0>"
      ]
     },
     "metadata": {},
     "output_type": "display_data"
    }
   ],
   "source": [
    "plt.figure()\n",
    "lw = 2\n",
    "plt.plot(false_positive_rate, true_positive_rate, lw=lw, label='ROC curve (area = %0.2f)' % auc)\n",
    "plt.plot([0, 1], [0, 1], color='navy', lw=lw, linestyle='--')\n",
    "plt.xlim([0.0, 1.0])\n",
    "plt.ylim([0.0, 1.05])\n",
    "plt.xlabel('False Positive Rate')\n",
    "plt.ylabel('True Positive Rate')\n",
    "plt.title('Receiver operating characteristic example')\n",
    "plt.legend(loc=\"lower right\")\n",
    "plt.show()"
   ]
  },
  {
   "cell_type": "markdown",
   "metadata": {
    "collapsed": true
   },
   "source": [
    "## ToDo\n",
    "Extra Features to be derived - Repo level:\n",
    "- one degree measure for each interaction type (set other two weights to 0) CHECK\n",
    "- One measure for average connectedness between users for a repo ( total weight users / number possible edges) CHECK\n",
    "- stars NOT IN DATA\n",
    "\n",
    "Extra Features to be derived - User level: \n",
    "- Autoencoder user preference\n",
    "\n",
    "Extra features to be derived User-Repo level: \n",
    "- Owner yes no (IN MODEL)\n",
    "- number of prev. interactions of each type\n",
    "- total weight between user and users of repo? "
   ]
  },
  {
   "cell_type": "markdown",
   "metadata": {},
   "source": [
    "## Full Model"
   ]
  },
  {
   "cell_type": "code",
   "execution_count": 259,
   "metadata": {
    "collapsed": true
   },
   "outputs": [],
   "source": [
    "# First define the features that are actually being used in current model\n",
    "features = np.array([1, # API from MIP-DOI\n",
    "                     1, # Distance all\n",
    "                     1, # Distance content\n",
    "                     1, # Distance design\n",
    "                     1, # Distance Consume\n",
    "                     1, # Weighted User Connectedness\n",
    "                     1, # Fraction User Connectedness\n",
    "                     1, # Stars / Forks\n",
    "                     1, # User Embeddings\n",
    "                     1, # Owner yes/no\n",
    "                     1, # previous interaction count content\n",
    "                     1, # previous interaction count design\n",
    "                     1, # previous interaction count consume\n",
    "                     1,]) # Total weight between user and users in common"
   ]
  },
  {
   "cell_type": "code",
   "execution_count": 261,
   "metadata": {
    "collapsed": false
   },
   "outputs": [
    {
     "name": "stdout",
     "output_type": "stream",
     "text": [
      "found 22769 interactions\n"
     ]
    }
   ],
   "source": [
    "# Define Y based on desired outcome, all/design/content/design\n",
    "# Form: {User: {Repo: 1/0}}, possible extension {User: {Repo: {Type: 1/0}}}\n",
    "def get_Y(goaltype='all', time_as_goal=10):\n",
    "    test_ints = get_all_interactions_for_timebucket(time_as_goal)\n",
    "    y_truths = defaultdict(Counter)\n",
    "    for p in test_ints:\n",
    "        if goaltype == \"all\" or p[2] == goaltype:\n",
    "            y_truths[p[0]][p[1]] = 1\n",
    "    return y_truths\n",
    "Y = get_Y()"
   ]
  },
  {
   "cell_type": "code",
   "execution_count": 301,
   "metadata": {
    "collapsed": false
   },
   "outputs": [],
   "source": [
    "user2idx = {}\n",
    "idx2user = {}\n",
    "repo2idx = {}\n",
    "idx2repo = {}\n",
    "for ix, v in enumerate(mip.P):\n",
    "    user2idx[v] = ix\n",
    "    idx2user[ix] = v\n",
    "for ix, v in enumerate(mip.R):\n",
    "    repo2idx[v] = ix\n",
    "    idx2repo[ix] = v"
   ]
  },
  {
   "cell_type": "code",
   "execution_count": 359,
   "metadata": {
    "collapsed": false
   },
   "outputs": [
    {
     "data": {
      "text/plain": [
       "([(array([  0.16832498,  13.2464447 ,   2.14188027,  11.45761871,\n",
       "            3.71965456,  20.99381828,  28.5714283 ,   0.        ,\n",
       "            1.        ,  14.        ,  11.        ,   0.        ,   1.72665179], dtype=float32),\n",
       "   8510)],\n",
       " [(array([  0.16832498,   0.        ,   0.        ,   0.        ,\n",
       "            0.        ,  28.45859909,  33.33333206,   0.        ,\n",
       "            1.        ,  14.        ,  11.        ,   0.        ,   0.        ], dtype=float32),\n",
       "   584),\n",
       "  (array([  0.16832498,   0.        ,   0.        ,   0.        ,\n",
       "            0.        ,  16.66666603,  16.66666603,   0.        ,\n",
       "            1.        ,  14.        ,  11.        ,   0.        ,   0.        ], dtype=float32),\n",
       "   8948),\n",
       "  (array([  0.16832498,   0.        ,   0.        ,   0.        ,\n",
       "            0.        ,  10.41428566,  14.28571415,   0.        ,\n",
       "            1.        ,  14.        ,  11.        ,   0.        ,   0.        ], dtype=float32),\n",
       "   6502),\n",
       "  (array([  0.16832498,   0.        ,   0.        ,   0.        ,\n",
       "            0.        ,   0.        ,   0.        ,   0.        ,\n",
       "            1.        ,  14.        ,  11.        ,   0.        ,   0.        ], dtype=float32),\n",
       "   9823),\n",
       "  (array([  0.16832498,   0.        ,   0.        ,   0.        ,\n",
       "            0.        ,   7.17445374,  16.66666603,   0.        ,\n",
       "            1.        ,  14.        ,  11.        ,   0.        ,   0.        ], dtype=float32),\n",
       "   1095),\n",
       "  (array([  0.16832498,   0.        ,   0.        ,   0.        ,\n",
       "            0.        ,   0.        ,   0.        ,   0.        ,\n",
       "            1.        ,  14.        ,  11.        ,   0.        ,   0.        ], dtype=float32),\n",
       "   5019),\n",
       "  (array([   0.16832498,    0.        ,    0.        ,    0.        ,\n",
       "             0.        ,  142.46958923,   60.        ,    0.        ,\n",
       "             1.        ,   14.        ,   11.        ,    0.        ,    0.        ], dtype=float32),\n",
       "   459),\n",
       "  (array([  0.16832498,   0.        ,   0.        ,   0.        ,\n",
       "            0.        ,  15.31441021,  10.        ,   0.        ,\n",
       "            1.        ,  14.        ,  11.        ,   0.        ,   0.        ], dtype=float32),\n",
       "   6901),\n",
       "  (array([   0.16832498,    0.        ,    0.        ,    0.        ,\n",
       "             0.        ,  145.64085388,   50.        ,    0.        ,\n",
       "             1.        ,   14.        ,   11.        ,    0.        ,    0.        ], dtype=float32),\n",
       "   6185),\n",
       "  (array([  0.16832498,   0.        ,   0.        ,   0.        ,\n",
       "            0.        ,  30.        ,  33.33333206,   0.        ,\n",
       "            1.        ,  14.        ,  11.        ,   0.        ,   0.        ], dtype=float32),\n",
       "   7090)])"
      ]
     },
     "execution_count": 359,
     "metadata": {},
     "output_type": "execute_result"
    }
   ],
   "source": [
    "def construct_X_large(Y, mip, mipnet, users, repos, mask, samplesize=300):\n",
    "    '''\n",
    "    Constructs a feature vector for each user, \n",
    "    for the positives as well as large_samplesize other repos\n",
    "    '''\n",
    "    reposet = set(repos)\n",
    "    X_large = dict()\n",
    "    for u in users:\n",
    "        targets = Y[u].keys()\n",
    "        # Create first samples from uniform dist over all repos \n",
    "        samplerepos = np.random.choice(list(reposet-set(targets)), \n",
    "                                       samplesize, replace=False)\n",
    "        \n",
    "        true_vects = []\n",
    "        false_vects = []\n",
    "        for r in targets:\n",
    "            #print u,r\n",
    "            true_vects.append((get_X_features(mip, mipnet, u, r, mask),repo2idx[r]))\n",
    "        for r in samplerepos:\n",
    "            false_vects.append((get_X_features(mip, mipnet, u, r, mask),repo2idx[r]))\n",
    "        \n",
    "        X_large[user2idx[u]] = (true_vects, false_vects)\n",
    "        break\n",
    "    return X_large\n",
    "def get_X_features(mip, mipnet, user, repo, mask):\n",
    "    x = []\n",
    "    if mask[0]: # API from MIP-DOI\n",
    "        x += [mip.centrality[r] * 100] # scaled to % \n",
    "    D = adamicAdarProximity(mipnet, user, repo, params)\n",
    "    if mask[1]: # Distance all\n",
    "        x += [D[0]]\n",
    "    if mask[2]: # Distance content\n",
    "        x += [D[1]]\n",
    "    if mask[3]: # Distance design\n",
    "        x += [D[2]]\n",
    "    if mask[4]: # Distance Consume\n",
    "        x += [D[3]]\n",
    "    if mask[5]: # Weighted User Connectedness\n",
    "        x += [mip.userconnectedness[repo]]\n",
    "    if mask[6]: # Fraction User Connectedness\n",
    "        x += [mip.userconnectedness2[repo]]\n",
    "    if mask[7]: # Stars / Forks\n",
    "        pass # TODO\n",
    "    if mask[8]: # User Embeddings\n",
    "        pass # TODO\n",
    "    if mask[8]: # Owner yes/no\n",
    "        try:\n",
    "            if mipnet[user][repo][0]['owner']:\n",
    "                x += [1.,0.]\n",
    "            else:\n",
    "                x += [0.,1.]\n",
    "        except:\n",
    "            x += [0.,1.]\n",
    "    if mask[9]: # previous interaction count content\n",
    "        x += [mip.prevContent[user]]\n",
    "    if mask[10]: # previous interaction count design\n",
    "        x += [mip.prevDesign[user]]\n",
    "    if mask[11]: # previous interaction count consume\n",
    "        x += [mip.prevConsume[user]]\n",
    "    if mask[12]: # Total weight between user and users in common\n",
    "        x += [computeUserInCommonWeight(mipnet, user,repo)]\n",
    "    return np.array(x, dtype=np.float32)\n",
    "        \n",
    "X_large = construct_X_large(Y, mip, mip.mip, mip.P, mip.R, features)\n",
    "X_large[0]"
   ]
  },
  {
   "cell_type": "code",
   "execution_count": 339,
   "metadata": {
    "collapsed": false
   },
   "outputs": [
    {
     "name": "stdout",
     "output_type": "stream",
     "text": [
      "{u'codeschool-kiddo': {0: {'ntype': 'u-u', 'weight': 1.2961845990000003}}, u'jinpae': {0: {'ntype': 'u-u', 'weight': 0.43046721000000016}}, u'deadlyvipers/dojo_rules': {0: {'owner': False, 'ntype': 'content', 'weight': 5.945230467000001}, 1: {'owner': False, 'ntype': 'design', 'weight': 3.831158169000001}, 2: {'owner': False, 'ntype': 'consume', 'weight': 0.8657173890000002}}}\n"
     ]
    }
   ],
   "source": [
    "print mip.mip['Angelfirenze']"
   ]
  },
  {
   "cell_type": "code",
   "execution_count": null,
   "metadata": {
    "collapsed": true
   },
   "outputs": [],
   "source": []
  }
 ],
 "metadata": {
  "anaconda-cloud": {},
  "kernelspec": {
   "display_name": "Python [conda root]",
   "language": "python",
   "name": "conda-root-py"
  },
  "language_info": {
   "codemirror_mode": {
    "name": "ipython",
    "version": 2
   },
   "file_extension": ".py",
   "mimetype": "text/x-python",
   "name": "python",
   "nbconvert_exporter": "python",
   "pygments_lexer": "ipython2",
   "version": "2.7.12"
  }
 },
 "nbformat": 4,
 "nbformat_minor": 1
}
